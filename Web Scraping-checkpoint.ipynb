{
 "cells": [
  {
   "cell_type": "markdown",
   "metadata": {},
   "source": [
    "# Web scraping "
   ]
  },
  {
   "cell_type": "code",
   "execution_count": 1,
   "metadata": {},
   "outputs": [],
   "source": [
    "#importing libraries\n",
    "import selenium \n",
    "import pandas as pd\n",
    "import time\n",
    "#importing selenium webdriver\n",
    "from selenium import webdriver\n",
    "from selenium.common.exceptions import StaleElementReferenceException, NoSuchElementException"
   ]
  },
  {
   "cell_type": "markdown",
   "metadata": {},
   "source": [
    "## Laptop"
   ]
  },
  {
   "cell_type": "code",
   "execution_count": 2,
   "metadata": {},
   "outputs": [
    {
     "name": "stdout",
     "output_type": "stream",
     "text": [
      "DataFrame is written to Excel File successfully.\n"
     ]
    }
   ],
   "source": [
    "#Activating the chrome browser\n",
    "driver = webdriver.Chrome(r\"C:\\Users\\Jayasurya E\\Downloads\\chromedriver_win32 (1)\\chromedriver\")\n",
    "url = \"https://www.flipkart.com/hp-15s-ryzen-3-dual-core-3250u-8-gb-1-tb-hdd-windows-10-home-15s-gr0011au-thin-light-laptop/product-reviews/itma23a328a1f458?pid=COMFZHFWETTEFHVZ&lid=LSTCOMFZHFWETTEFHVZ2OSEK3&marketplace=FLIPKART&page=2\"\n",
    "driver.get(url)\n",
    "\n",
    "# Creating empty list\n",
    "Review=[]\n",
    "Stars=[]\n",
    "\n",
    "time.sleep(4)\n",
    "\n",
    "for i in range(0,48):#for loop for scrapping 4 page\n",
    "    \n",
    "    url=driver.find_element_by_xpath(\"//nav[@class='yFHi8N']/a[12]\").get_attribute('href')\n",
    "    driver.get(url)\n",
    "    \n",
    "    #for scrapping the number of stars\n",
    "    for j in driver.find_elements_by_xpath(\"//div[@class='col _2wzgFH K0kLPL']/div[1]/div[1]\"):\n",
    "        Stars.append(j.text)\n",
    "    #for scrapping the short review\n",
    "    for k in driver.find_elements_by_xpath(\"//div[@class='col _2wzgFH K0kLPL']/div[2]\"):\n",
    "        Review.append(k.text)\n",
    "    \n",
    "\n",
    "    \n",
    "time.sleep(3)       \n",
    "#Combining all the lists into a single dataframe\n",
    "hp_Ryzen3_laptop=pd.DataFrame({'Number of Stars': Stars,\n",
    "               'Full Review': Review})\n",
    "hp_Ryzen3_laptop\n",
    "\n",
    "# determining the name of the file\n",
    "file_name = 'hp_Ryzen3_laptop.xlsx'\n",
    "  \n",
    "# saving the excel\n",
    "hp_Ryzen3_laptop.to_excel(file_name)\n",
    "print('DataFrame is written to Excel File successfully.')"
   ]
  },
  {
   "cell_type": "code",
   "execution_count": 3,
   "metadata": {},
   "outputs": [
    {
     "name": "stdout",
     "output_type": "stream",
     "text": [
      "DataFrame is written to Excel File successfully.\n"
     ]
    }
   ],
   "source": [
    "#Activating the chrome browser\n",
    "driver = webdriver.Chrome(r\"C:\\Users\\Jayasurya E\\Downloads\\chromedriver_win32 (1)\\chromedriver\")\n",
    "url = \"https://www.flipkart.com/hp-14s-ryzen-3-quad-core-8-gb-512-gb-ssd-windows-10-home-14s-fq1029au-thin-light-laptop/product-reviews/itmd88184f39e2f8?pid=COMG2GXQZKXAAHY6&lid=LSTCOMG2GXQZKXAAHY6AMQZBP&marketplace=FLIPKART&page=2\"\n",
    "driver.get(url)\n",
    "# Creating empty list\n",
    "Review=[]\n",
    "Stars=[]\n",
    "\n",
    "time.sleep(4)\n",
    "\n",
    "for i in range(0,7):#for loop for scrapping 8 page\n",
    "    \n",
    "    url=driver.find_element_by_xpath(\"//nav[@class='yFHi8N']/a[12]\").get_attribute('href')\n",
    "    driver.get(url)\n",
    "    \n",
    "    #for scrapping the number of stars\n",
    "    for j in driver.find_elements_by_xpath(\"//div[@class='col _2wzgFH K0kLPL']/div[1]/div[1]\"):\n",
    "        Stars.append(j.text)\n",
    "    #for scrapping the short review\n",
    "    for k in driver.find_elements_by_xpath(\"//div[@class='col _2wzgFH K0kLPL']/div[2]\"):\n",
    "        Review.append(k.text)\n",
    "    \n",
    "\n",
    "    \n",
    "time.sleep(3)       \n",
    "#Combining all the lists into a single dataframe\n",
    "fouteens_ryzen3_laptop=pd.DataFrame({'Number of Stars': Stars,\n",
    "               'Full Review': Review})\n",
    "fouteens_ryzen3_laptop\n",
    "# determining the name of the file\n",
    "file_name = 'fouteens_ryzen3_laptop.xlsx'\n",
    "  \n",
    "# saving the excel\n",
    "fouteens_ryzen3_laptop.to_excel(file_name)\n",
    "print('DataFrame is written to Excel File successfully.')"
   ]
  },
  {
   "cell_type": "code",
   "execution_count": 4,
   "metadata": {},
   "outputs": [
    {
     "name": "stdout",
     "output_type": "stream",
     "text": [
      "DataFrame is written to Excel File successfully.\n"
     ]
    }
   ],
   "source": [
    "#Activating the chrome browser\n",
    "driver = webdriver.Chrome(r\"C:\\Users\\Jayasurya E\\Downloads\\chromedriver_win32 (1)\\chromedriver\")\n",
    "url = \"https://www.flipkart.com/hp-14s-core-i3-11th-gen-8-gb-256-gb-ssd-windows-10-home-14s-dy2500tu-thin-light-laptop/product-reviews/itm1468339b1eaff?pid=COMGYZPAXQRJYJE3&lid=LSTCOMGYZPAXQRJYJE39J6MVF&marketplace=FLIPKART&page=2\"\n",
    "driver.get(url)\n",
    "# Creating empty list\n",
    "Review=[]\n",
    "Stars=[]\n",
    "\n",
    "time.sleep(4)\n",
    "\n",
    "for i in range(0,8):#for loop for scrapping  page\n",
    "    \n",
    "    url=driver.find_element_by_xpath(\"//nav[@class='yFHi8N']/a[12]\").get_attribute('href')\n",
    "    driver.get(url)\n",
    "    \n",
    "    #for scrapping the number of stars\n",
    "    for j in driver.find_elements_by_xpath(\"//div[@class='col _2wzgFH K0kLPL']/div[1]/div[1]\"):\n",
    "        Stars.append(j.text)\n",
    "    #for scrapping the short review\n",
    "    for k in driver.find_elements_by_xpath(\"//div[@class='col _2wzgFH K0kLPL']/div[2]\"):\n",
    "        Review.append(k.text)\n",
    "    \n",
    "\n",
    "    \n",
    "time.sleep(3)       \n",
    "#Combining all the lists into a single dataframe\n",
    "hp_i3_laptop=pd.DataFrame({'Number of Stars': Stars,\n",
    "               'Full Review': Review})\n",
    "hp_i3_laptop\n",
    "# determining the name of the file\n",
    "file_name = 'hp_i3_laptop.xlsx'\n",
    "  \n",
    "# saving the excel\n",
    "hp_i3_laptop.to_excel(file_name)\n",
    "print('DataFrame is written to Excel File successfully.')"
   ]
  },
  {
   "cell_type": "code",
   "execution_count": 5,
   "metadata": {},
   "outputs": [
    {
     "name": "stdout",
     "output_type": "stream",
     "text": [
      "DataFrame is written to Excel File successfully.\n"
     ]
    }
   ],
   "source": [
    "#Activating the chrome browser\n",
    "driver = webdriver.Chrome(r\"C:\\Users\\Jayasurya E\\Downloads\\chromedriver_win32 (1)\\chromedriver\")\n",
    "url = \"https://www.flipkart.com/hp-15s-core-i3-11th-gen-8-gb-1-tb-hdd-windows-10-home-15s-du3038tu-thin-light-laptop/product-reviews/itm3fdea49f069a0?pid=COMFZ4TUFA33AC7Y&lid=LSTCOMFZ4TUFA33AC7YITRAGB&marketplace=FLIPKART&page=2\"\n",
    "driver.get(url)\n",
    "# Creating empty list\n",
    "Review=[]\n",
    "Stars=[]\n",
    "\n",
    "time.sleep(4)\n",
    "\n",
    "for i in range(0,12):#for loop for scrapping 8 page\n",
    "    \n",
    "    url=driver.find_element_by_xpath(\"//nav[@class='yFHi8N']/a[12]\").get_attribute('href')\n",
    "    driver.get(url)\n",
    "    \n",
    "    #for scrapping the number of stars\n",
    "    for j in driver.find_elements_by_xpath(\"//div[@class='col _2wzgFH K0kLPL']/div[1]/div[1]\"):\n",
    "        Stars.append(j.text)\n",
    "    #for scrapping the short review\n",
    "    for k in driver.find_elements_by_xpath(\"//div[@class='col _2wzgFH K0kLPL']/div[2]\"):\n",
    "        Review.append(k.text)\n",
    "    \n",
    "\n",
    "    \n",
    "time.sleep(3)       \n",
    "#Combining all the lists into a single dataframe\n",
    "fifteens_hpi3_laptop=pd.DataFrame({'Number of Stars': Stars,\n",
    "               'Full Review': Review})\n",
    "fifteens_hpi3_laptop\n",
    "# determining the name of the file\n",
    "file_name = 'fifteens_hpi3_laptop.xlsx'\n",
    "  \n",
    "# saving the excel\n",
    "fifteens_hpi3_laptop.to_excel(file_name)\n",
    "print('DataFrame is written to Excel File successfully.')"
   ]
  },
  {
   "cell_type": "code",
   "execution_count": 6,
   "metadata": {},
   "outputs": [
    {
     "name": "stdout",
     "output_type": "stream",
     "text": [
      "DataFrame is written to Excel File successfully.\n"
     ]
    }
   ],
   "source": [
    "#Activating the chrome browser\n",
    "driver = webdriver.Chrome(r\"C:\\Users\\Jayasurya E\\Downloads\\chromedriver_win32 (1)\\chromedriver\")\n",
    "url = \"https://www.flipkart.com/hp-pavilion-gaming-ryzen-7-octa-core-4800h-16-gb-1-tb-hdd-256-gb-ssd-windows-10-home-4-graphics-nvidia-geforce-1650ti-15-ec1512ax-laptop/product-reviews/itmc86ddf2406f18?pid=COMG329PDCH8B6RE&lid=LSTCOMG329PDCH8B6REYJ7KNF&marketplace=FLIPKART&page=2\"\n",
    "driver.get(url)\n",
    "# Creating empty list\n",
    "Review=[]\n",
    "Stars=[]\n",
    "\n",
    "time.sleep(4)\n",
    "\n",
    "for i in range(0,2):#for loop for scrapping 8 page\n",
    "    \n",
    "    url=driver.find_element_by_xpath(\"//nav[@class='yFHi8N']/a[6]\").get_attribute('href')\n",
    "    driver.get(url)\n",
    "    \n",
    "    #for scrapping the number of stars\n",
    "    for j in driver.find_elements_by_xpath(\"//div[@class='col _2wzgFH K0kLPL']/div[1]/div[1]\"):\n",
    "        Stars.append(j.text)\n",
    "    #for scrapping the short review\n",
    "    for k in driver.find_elements_by_xpath(\"//div[@class='col _2wzgFH K0kLPL']/div[2]\"):\n",
    "        Review.append(k.text)\n",
    "\n",
    "    \n",
    "\n",
    "    \n",
    "time.sleep(3)       \n",
    "#Combining all the lists into a single dataframe\n",
    "ryzen_octa_laptop=pd.DataFrame({'Number of Stars': Stars,\n",
    "               'Full Review': Review})\n",
    "ryzen_octa_laptop\n",
    "# determining the name of the file\n",
    "file_name = 'ryzen_octa_laptop.xlsx'\n",
    "  \n",
    "# saving the excel\n",
    "ryzen_octa_laptop.to_excel(file_name)\n",
    "print('DataFrame is written to Excel File successfully.')"
   ]
  },
  {
   "cell_type": "code",
   "execution_count": 7,
   "metadata": {},
   "outputs": [
    {
     "name": "stdout",
     "output_type": "stream",
     "text": [
      "DataFrame is written to Excel File successfully.\n"
     ]
    }
   ],
   "source": [
    "#Activating the chrome browser\n",
    "driver = webdriver.Chrome(r\"C:\\Users\\Jayasurya E\\Downloads\\chromedriver_win32 (1)\\chromedriver\")\n",
    "url = \"https://www.flipkart.com/hp-15s-pentium-gold-4-gb-1-tb-hdd-windows-10-home-15s-du1052tu-thin-light-laptop/product-reviews/itm78dbe5c44bf8b?pid=COMFZ3VNV7RFVKR2&lid=LSTCOMFZ3VNV7RFVKR2WJFPCC&marketplace=FLIPKART&page=2\"\n",
    "driver.get(url)\n",
    "# Creating empty list\n",
    "Review=[]\n",
    "Stars=[]\n",
    "\n",
    "time.sleep(4)\n",
    "\n",
    "for i in range(0,16):#for loop for scrapping 8 page\n",
    "    \n",
    "    url=driver.find_element_by_xpath(\"//nav[@class='yFHi8N']/a[12]\").get_attribute('href')\n",
    "    driver.get(url)\n",
    "    \n",
    "    #for scrapping the number of stars\n",
    "    for j in driver.find_elements_by_xpath(\"//div[@class='col _2wzgFH K0kLPL']/div[1]/div[1]\"):\n",
    "        Stars.append(j.text)\n",
    "    #for scrapping the short review\n",
    "    for k in driver.find_elements_by_xpath(\"//div[@class='col _2wzgFH K0kLPL']/div[2]\"):\n",
    "        Review.append(k.text)\n",
    "\n",
    "    \n",
    "\n",
    "    \n",
    "time.sleep(3)       \n",
    "#Combining all the lists into a single dataframe\n",
    "fifteens_pentium_laptop=pd.DataFrame({'Number of Stars': Stars,\n",
    "               'Full Review': Review})\n",
    "fifteens_pentium_laptop\n",
    "# determining the name of the file\n",
    "file_name = 'fifteens_pentium_laptop.xlsx'\n",
    "  \n",
    "# saving the excel\n",
    "fifteens_pentium_laptop.to_excel(file_name)\n",
    "print('DataFrame is written to Excel File successfully.')"
   ]
  },
  {
   "cell_type": "code",
   "execution_count": 8,
   "metadata": {},
   "outputs": [
    {
     "name": "stdout",
     "output_type": "stream",
     "text": [
      "DataFrame is written to Excel File successfully.\n"
     ]
    }
   ],
   "source": [
    "#Activating the chrome browser\n",
    "driver = webdriver.Chrome(r\"C:\\Users\\Jayasurya E\\Downloads\\chromedriver_win32 (1)\\chromedriver\")\n",
    "url = \"https://www.flipkart.com/hp-pavilion-gaming-ryzen-5-quad-core-3550h-8-gb-512-gb-ssd-windows-10-home-4-graphics-nvidia-geforce-gtx-1650-15-ec0104ax-laptop/product-reviews/itmd913c0c99513d?pid=COMFSFNVHASSGMGQ&lid=LSTCOMFSFNVHASSGMGQKLIXSJ&marketplace=FLIPKART&page=2\"\n",
    "driver.get(url)\n",
    "# Creating empty list\n",
    "Review=[]\n",
    "Stars=[]\n",
    "\n",
    "time.sleep(4)\n",
    "\n",
    "for i in range(0,15):#for loop for scrapping 8 page\n",
    "    \n",
    "    url=driver.find_element_by_xpath(\"//nav[@class='yFHi8N']/a[12]\").get_attribute('href')\n",
    "    driver.get(url)\n",
    "    \n",
    "    #for scrapping the number of stars\n",
    "    for j in driver.find_elements_by_xpath(\"//div[@class='col _2wzgFH K0kLPL']/div[1]/div[1]\"):\n",
    "        Stars.append(j.text)\n",
    "    #for scrapping the short review\n",
    "    for k in driver.find_elements_by_xpath(\"//div[@class='col _2wzgFH K0kLPL']/div[2]\"):\n",
    "        Review.append(k.text)\n",
    "\n",
    "    \n",
    "\n",
    "    \n",
    "time.sleep(3)       \n",
    "#Combining all the lists into a single dataframe\n",
    "hp_ryzen5_quad_laptop=pd.DataFrame({'Number of Stars': Stars,\n",
    "               'Full Review': Review})\n",
    "hp_ryzen5_quad_laptop\n",
    "# determining the name of the file\n",
    "file_name = 'hp_ryzen5_quad_laptop.xlsx'\n",
    "  \n",
    "# saving the excel\n",
    "hp_ryzen5_quad_laptop.to_excel(file_name)\n",
    "print('DataFrame is written to Excel File successfully.')"
   ]
  },
  {
   "cell_type": "code",
   "execution_count": 9,
   "metadata": {},
   "outputs": [
    {
     "name": "stdout",
     "output_type": "stream",
     "text": [
      "DataFrame is written to Excel File successfully.\n"
     ]
    }
   ],
   "source": [
    "#Activating the chrome browser\n",
    "driver = webdriver.Chrome(r\"C:\\Users\\Jayasurya E\\Downloads\\chromedriver_win32 (1)\\chromedriver\")\n",
    "url = \"https://www.flipkart.com/hp-omen-ryzen-5-hexa-core-4600h-8-gb-512-gb-ssd-windows-10-home-6-graphics-nvidia-geforce-gtx-1660-ti-15-en0002ax-gaming-laptop/product-reviews/itm8837de99c3094?pid=COMFSTFFCG7CQW52&lid=LSTCOMFSTFFCG7CQW52SKMQBE&marketplace=FLIPKART&page=2\"\n",
    "driver.get(url)\n",
    "# Creating empty list\n",
    "Review=[]\n",
    "Stars=[]\n",
    "\n",
    "time.sleep(4)\n",
    "\n",
    "for i in range(0,3):#for loop for scrapping 8 page\n",
    "    \n",
    "    url=driver.find_element_by_xpath(\"//nav[@class='yFHi8N']/a[9]\").get_attribute('href')\n",
    "    driver.get(url)\n",
    "    \n",
    "    #for scrapping the number of stars\n",
    "    for j in driver.find_elements_by_xpath(\"//div[@class='col _2wzgFH K0kLPL']/div[1]/div[1]\"):\n",
    "        Stars.append(j.text)\n",
    "    #for scrapping the short review\n",
    "    for k in driver.find_elements_by_xpath(\"//div[@class='col _2wzgFH K0kLPL']/div[2]\"):\n",
    "        Review.append(k.text)\n",
    "\n",
    "    \n",
    "\n",
    "    \n",
    "time.sleep(3)       \n",
    "#Combining all the lists into a single dataframe\n",
    "hp_ryzen5_hexa_laptop=pd.DataFrame({'Number of Stars': Stars,\n",
    "               'Full Review': Review})\n",
    "hp_ryzen5_hexa_laptop\n",
    "# determining the name of the file\n",
    "file_name = 'hp_ryzen5_hexa_laptop.xlsx'\n",
    "  \n",
    "# saving the excel\n",
    "hp_ryzen5_hexa_laptop.to_excel(file_name)\n",
    "print('DataFrame is written to Excel File successfully.')"
   ]
  },
  {
   "cell_type": "code",
   "execution_count": 10,
   "metadata": {},
   "outputs": [
    {
     "name": "stdout",
     "output_type": "stream",
     "text": [
      "DataFrame is written to Excel File successfully.\n"
     ]
    }
   ],
   "source": [
    "#Activating the chrome browser\n",
    "driver = webdriver.Chrome(r\"C:\\Users\\Jayasurya E\\Downloads\\chromedriver_win32 (1)\\chromedriver\")\n",
    "url = \"https://www.flipkart.com/hp-15s-core-i5-11th-gen-8-gb-512-gb-ssd-windows-10-home-15s-fq2535tu-thin-light-laptop/product-reviews/itm0449783fdb797?pid=COMGYSSUKJEKBFDG&lid=LSTCOMGYSSUKJEKBFDGXFZF5D&marketplace=FLIPKART&page=2\"\n",
    "driver.get(url)\n",
    "# Creating empty list\n",
    "Review=[]\n",
    "Stars=[]\n",
    "\n",
    "time.sleep(4)\n",
    "\n",
    "for i in range(0,4):#for loop for scrapping 8 page\n",
    "    \n",
    "    url=driver.find_element_by_xpath(\"//nav[@class='yFHi8N']/a[8]\").get_attribute('href')\n",
    "    driver.get(url)\n",
    "    \n",
    "    #for scrapping the number of stars\n",
    "    for j in driver.find_elements_by_xpath(\"//div[@class='col _2wzgFH K0kLPL']/div[1]/div[1]\"):\n",
    "        Stars.append(j.text)\n",
    "    #for scrapping the short review\n",
    "    for k in driver.find_elements_by_xpath(\"//div[@class='col _2wzgFH K0kLPL']/div[2]\"):\n",
    "        Review.append(k.text)\n",
    "\n",
    "    \n",
    "\n",
    "    \n",
    "time.sleep(3)       \n",
    "#Combining all the lists into a single dataframe\n",
    "hp_fifteens_i5_laptop=pd.DataFrame({'Number of Stars': Stars,\n",
    "               'Full Review': Review})\n",
    "hp_fifteens_i5_laptop\n",
    "# determining the name of the file\n",
    "file_name = 'hp_fifteens_i5_laptop.xlsx'\n",
    "  \n",
    "# saving the excel\n",
    "hp_fifteens_i5_laptop.to_excel(file_name)\n",
    "print('DataFrame is written to Excel File successfully.')"
   ]
  },
  {
   "cell_type": "markdown",
   "metadata": {},
   "source": [
    "## Phone"
   ]
  },
  {
   "cell_type": "code",
   "execution_count": 11,
   "metadata": {},
   "outputs": [
    {
     "name": "stdout",
     "output_type": "stream",
     "text": [
      "DataFrame is written to Excel File successfully.\n"
     ]
    }
   ],
   "source": [
    "#Activating the chrome browser\n",
    "driver = webdriver.Chrome(r\"C:\\Users\\Jayasurya E\\Downloads\\chromedriver_win32 (1)\\chromedriver\")\n",
    "url = \"https://www.flipkart.com/realme-8-5g-supersonic-black-128-gb/product-reviews/itm8a548578d136e?pid=MOBG24GTTRD9XB8X&lid=LSTMOBG24GTTRD9XB8XCHSEML&marketplace=FLIPKART&page=2\"\n",
    "driver.get(url)\n",
    "# Creating empty list\n",
    "Review=[]\n",
    "Stars=[]\n",
    "\n",
    "time.sleep(4)\n",
    "\n",
    "for i in range(0,296):#for loop for scrapping 4 page\n",
    "    \n",
    "    url=driver.find_element_by_xpath(\"//nav[@class='yFHi8N']/a[12]\").get_attribute('href')\n",
    "    driver.get(url)\n",
    "    \n",
    "    #for scrapping the number of stars\n",
    "    for j in driver.find_elements_by_xpath(\"//div[@class='col _2wzgFH K0kLPL']/div[1]/div[1]\"):\n",
    "        Stars.append(j.text)\n",
    "    #for scrapping the short review\n",
    "    for k in driver.find_elements_by_xpath(\"//div[@class='col _2wzgFH K0kLPL']/div[2]\"):\n",
    "        Review.append(k.text)\n",
    "    \n",
    "\n",
    "    \n",
    "time.sleep(3)       \n",
    "#Combining all the lists into a single dataframe\n",
    "realme8_5g_phone=pd.DataFrame({'Number of Stars': Stars,\n",
    "               'Full Review': Review})\n",
    "realme8_5g_phone\n",
    "# determining the name of the file\n",
    "file_name = 'realme8_5g_phone.xlsx'\n",
    "  \n",
    "# saving the excel\n",
    "realme8_5g_phone.to_excel(file_name)\n",
    "print('DataFrame is written to Excel File successfully.')"
   ]
  },
  {
   "cell_type": "markdown",
   "metadata": {},
   "source": [
    "## Headphone"
   ]
  },
  {
   "cell_type": "code",
   "execution_count": 12,
   "metadata": {},
   "outputs": [
    {
     "name": "stdout",
     "output_type": "stream",
     "text": [
      "DataFrame is written to Excel File successfully.\n"
     ]
    }
   ],
   "source": [
    "#Activating the chrome browser\n",
    "driver = webdriver.Chrome(r\"C:\\Users\\Jayasurya E\\Downloads\\chromedriver_win32 (1)\\chromedriver\")\n",
    "url = \"https://www.flipkart.com/boult-audio-probass-escape-bluetooth-headset/product-reviews/itmbc4dce0023ebf?pid=ACCG2J2PUKJYTU7S&lid=LSTACCG2J2PUKJYTU7S6SFCYO&marketplace=FLIPKART&page=2\"\n",
    "driver.get(url)\n",
    "# Creating empty list\n",
    "Review=[]\n",
    "Stars=[]\n",
    "\n",
    "time.sleep(4)\n",
    "\n",
    "for i in range(0,26):#for loop for scrapping 4 page\n",
    "    \n",
    "    url=driver.find_element_by_xpath(\"//nav[@class='yFHi8N']/a[12]\").get_attribute('href')\n",
    "    driver.get(url)\n",
    "    \n",
    "    #for scrapping the number of stars\n",
    "    for j in driver.find_elements_by_xpath(\"//div[@class='col _2wzgFH K0kLPL']/div[1]/div[1]\"):\n",
    "        Stars.append(j.text)\n",
    "    #for scrapping the short review\n",
    "    for k in driver.find_elements_by_xpath(\"//div[@class='col _2wzgFH K0kLPL']/div[2]\"):\n",
    "        Review.append(k.text)\n",
    "    \n",
    "\n",
    "    \n",
    "time.sleep(3)       \n",
    "#Combining all the lists into a single dataframe\n",
    "Boult_headphone=pd.DataFrame({'Number of Stars': Stars,\n",
    "               'Full Review': Review})\n",
    "Boult_headphone\n",
    "# determining the name of the file\n",
    "file_name = 'Boult_headphone.xlsx'\n",
    "  \n",
    "# saving the excel\n",
    "Boult_headphone.to_excel(file_name)\n",
    "print('DataFrame is written to Excel File successfully.')"
   ]
  },
  {
   "cell_type": "code",
   "execution_count": 13,
   "metadata": {},
   "outputs": [
    {
     "name": "stdout",
     "output_type": "stream",
     "text": [
      "DataFrame is written to Excel File successfully.\n"
     ]
    }
   ],
   "source": [
    "#Activating the chrome browser\n",
    "driver = webdriver.Chrome(r\"C:\\Users\\Jayasurya E\\Downloads\\chromedriver_win32 (1)\\chromedriver\")\n",
    "url = \"https://www.flipkart.com/oneplus-bullets-wireless-z-bass-bluetooth-headset/product-reviews/itm1654787d4f6d4?pid=ACCG2K38YCACC3XV&lid=LSTACCG2K38YCACC3XVJYX6YF&marketplace=FLIPKART&page=2\"\n",
    "driver.get(url)\n",
    "# Creating empty list\n",
    "Review=[]\n",
    "Stars=[]\n",
    "\n",
    "time.sleep(4)\n",
    "\n",
    "for i in range(0,10):#for loop for scrapping 4 page\n",
    "    \n",
    "    url=driver.find_element_by_xpath(\"//nav[@class='yFHi8N']/a[12]\").get_attribute('href')\n",
    "    driver.get(url)\n",
    "    \n",
    "    #for scrapping the number of stars\n",
    "    for j in driver.find_elements_by_xpath(\"//div[@class='col _2wzgFH K0kLPL']/div[1]/div[1]\"):\n",
    "        Stars.append(j.text)\n",
    "    #for scrapping the short review\n",
    "    for k in driver.find_elements_by_xpath(\"//div[@class='col _2wzgFH K0kLPL']/div[2]\"):\n",
    "        Review.append(k.text)\n",
    "    \n",
    "\n",
    "    \n",
    "time.sleep(3)       \n",
    "#Combining all the lists into a single dataframe\n",
    "oneplus_headphone=pd.DataFrame({'Number of Stars': Stars,\n",
    "               'Full Review': Review})\n",
    "oneplus_headphone\n",
    "# determining the name of the file\n",
    "file_name = 'oneplus_headphone.xlsx'\n",
    "  \n",
    "# saving the excel\n",
    "oneplus_headphone.to_excel(file_name)\n",
    "print('DataFrame is written to Excel File successfully.')"
   ]
  },
  {
   "cell_type": "code",
   "execution_count": 14,
   "metadata": {},
   "outputs": [
    {
     "name": "stdout",
     "output_type": "stream",
     "text": [
      "DataFrame is written to Excel File successfully.\n"
     ]
    }
   ],
   "source": [
    "#Activating the chrome browser\n",
    "driver = webdriver.Chrome(r\"C:\\Users\\Jayasurya E\\Downloads\\chromedriver_win32 (1)\\chromedriver\")\n",
    "url = \"https://www.flipkart.com/boat-rockerz-235v2-asap-charging-version-5-0-bluetooth-headset/product-reviews/itmffacf2db2cc8f?pid=ACCFZGAQJGYCYDCM&lid=LSTACCFZGAQJGYCYDCMMCMPP5&marketplace=FLIPKART&page=2\"\n",
    "driver.get(url)\n",
    "# Creating empty list\n",
    "Review=[]\n",
    "Stars=[]\n",
    "\n",
    "time.sleep(4)\n",
    "\n",
    "for i in range(0,40):#for loop for scrapping 4 page\n",
    "    \n",
    "    url=driver.find_element_by_xpath(\"//nav[@class='yFHi8N']/a[12]\").get_attribute('href')\n",
    "    driver.get(url)\n",
    "    \n",
    "    #for scrapping the number of stars\n",
    "    for j in driver.find_elements_by_xpath(\"//div[@class='col _2wzgFH K0kLPL']/div[1]/div[1]\"):\n",
    "        Stars.append(j.text)\n",
    "    #for scrapping the short review\n",
    "    for k in driver.find_elements_by_xpath(\"//div[@class='col _2wzgFH K0kLPL']/div[2]\"):\n",
    "        Review.append(k.text)\n",
    "    \n",
    "\n",
    "    \n",
    "time.sleep(3)       \n",
    "#Combining all the lists into a single dataframe\n",
    "Boat_headphone=pd.DataFrame({'Number of Stars': Stars,\n",
    "               'Full Review': Review})\n",
    "Boat_headphone\n",
    "# determining the name of the file\n",
    "file_name = 'Boat_headphone.xlsx'\n",
    "  \n",
    "# saving the excel\n",
    "Boat_headphone.to_excel(file_name)\n",
    "print('DataFrame is written to Excel File successfully.')"
   ]
  },
  {
   "cell_type": "code",
   "execution_count": 16,
   "metadata": {},
   "outputs": [
    {
     "name": "stdout",
     "output_type": "stream",
     "text": [
      "DataFrame is written to Excel File successfully.\n"
     ]
    }
   ],
   "source": [
    "#Activating the chrome browser\n",
    "driver = webdriver.Chrome(r\"C:\\Users\\Jayasurya E\\Downloads\\chromedriver_win32 (1)\\chromedriver\")\n",
    "url = \"https://www.flipkart.com/aroma-nb119-pro-30-hours-playtime-smart-voice-assistant-bluetooth-headset/product-reviews/itm409708e52e109?pid=ACCGF2YNUHGGC95S&lid=LSTACCGF2YNUHGGC95S0UILV3&marketplace=FLIPKART&page=2\"\n",
    "driver.get(url)\n",
    "# Creating empty list\n",
    "Review=[]\n",
    "Stars=[]\n",
    "\n",
    "time.sleep(4)\n",
    "\n",
    "for i in range(0,10):#for loop for scrapping 4 page\n",
    "    \n",
    "    url=driver.find_element_by_xpath(\"//nav[@class='yFHi8N']/a[12]\").get_attribute('href')\n",
    "    driver.get(url)\n",
    "    \n",
    "    #for scrapping the number of stars\n",
    "    for j in driver.find_elements_by_xpath(\"//div[@class='col _2wzgFH K0kLPL']/div[1]/div[1]\"):\n",
    "        Stars.append(j.text)\n",
    "    #for scrapping the short review\n",
    "    for k in driver.find_elements_by_xpath(\"//div[@class='col _2wzgFH K0kLPL']/div[2]\"):\n",
    "        Review.append(k.text)\n",
    "    \n",
    "\n",
    "    \n",
    "time.sleep(3)       \n",
    "#Combining all the lists into a single dataframe\n",
    "Aroma_headphone=pd.DataFrame({'Number of Stars': Stars,\n",
    "               'Full Review': Review})\n",
    "Aroma_headphone\n",
    "# determining the name of the file\n",
    "file_name = 'Aroma_headphone.xlsx'\n",
    "  \n",
    "# saving the excel\n",
    "Aroma_headphone.to_excel(file_name)\n",
    "print('DataFrame is written to Excel File successfully.')"
   ]
  },
  {
   "cell_type": "code",
   "execution_count": 17,
   "metadata": {},
   "outputs": [
    {
     "name": "stdout",
     "output_type": "stream",
     "text": [
      "DataFrame is written to Excel File successfully.\n"
     ]
    }
   ],
   "source": [
    "#Activating the chrome browser\n",
    "driver = webdriver.Chrome(r\"C:\\Users\\Jayasurya E\\Downloads\\chromedriver_win32 (1)\\chromedriver\")\n",
    "url = \"https://www.flipkart.com/realme-buds-2-neo-hd-mic-wired-headset/product-reviews/itm42a8766d94983?pid=ACCG48YRGAHFEV3P&lid=LSTACCG48YRGAHFEV3PPNUFQN&marketplace=FLIPKART&page=2\"\n",
    "driver.get(url)\n",
    "# Creating empty list\n",
    "Review=[]\n",
    "Stars=[]\n",
    "\n",
    "time.sleep(4)\n",
    "\n",
    "for i in range(0,36):#for loop for scrapping 4 page\n",
    "    \n",
    "    url=driver.find_element_by_xpath(\"//nav[@class='yFHi8N']/a[12]\").get_attribute('href')\n",
    "    driver.get(url)\n",
    "    \n",
    "    #for scrapping the number of stars\n",
    "    for j in driver.find_elements_by_xpath(\"//div[@class='col _2wzgFH K0kLPL']/div[1]/div[1]\"):\n",
    "        Stars.append(j.text)\n",
    "    #for scrapping the short review\n",
    "    for k in driver.find_elements_by_xpath(\"//div[@class='col _2wzgFH K0kLPL']/div[2]\"):\n",
    "        Review.append(k.text)\n",
    "    \n",
    "\n",
    "    \n",
    "time.sleep(3)       \n",
    "#Combining all the lists into a single dataframe\n",
    "Realme_headphone=pd.DataFrame({'Number of Stars': Stars,\n",
    "               'Full Review': Review})\n",
    "Realme_headphone\n",
    "# determining the name of the file\n",
    "file_name = 'Realme_headphone.xlsx'\n",
    "  \n",
    "# saving the excel\n",
    "Realme_headphone.to_excel(file_name)\n",
    "print('DataFrame is written to Excel File successfully.')"
   ]
  },
  {
   "cell_type": "code",
   "execution_count": 18,
   "metadata": {},
   "outputs": [
    {
     "name": "stdout",
     "output_type": "stream",
     "text": [
      "DataFrame is written to Excel File successfully.\n"
     ]
    }
   ],
   "source": [
    "#Activating the chrome browser\n",
    "driver = webdriver.Chrome(r\"C:\\Users\\Jayasurya E\\Downloads\\chromedriver_win32 (1)\\chromedriver\")\n",
    "url = \"https://www.flipkart.com/boat-airdopes-402-bluetooth-headset/product-reviews/itm9d7e15c2ce1aa?pid=ACCFSDGSYTH8XV7A&lid=LSTACCFSDGSYTH8XV7AIZOBO6&marketplace=FLIPKART&page=2\"\n",
    "driver.get(url)\n",
    "# Creating empty list\n",
    "Review=[]\n",
    "Stars=[]\n",
    "\n",
    "time.sleep(4)\n",
    "\n",
    "for i in range(0,50):#for loop for scrapping 4 page\n",
    "    \n",
    "    url=driver.find_element_by_xpath(\"//nav[@class='yFHi8N']/a[12]\").get_attribute('href')\n",
    "    driver.get(url)\n",
    "    \n",
    "    #for scrapping the number of stars\n",
    "    for j in driver.find_elements_by_xpath(\"//div[@class='col _2wzgFH K0kLPL']/div[1]/div[1]\"):\n",
    "        Stars.append(j.text)\n",
    "    #for scrapping the short review\n",
    "    for k in driver.find_elements_by_xpath(\"//div[@class='col _2wzgFH K0kLPL']/div[2]\"):\n",
    "        Review.append(k.text)\n",
    "    \n",
    "\n",
    "    \n",
    "time.sleep(3)       \n",
    "#Combining all the lists into a single dataframe\n",
    "Boat_airpods_headphone=pd.DataFrame({'Number of Stars': Stars,\n",
    "               'Full Review': Review})\n",
    "Boat_airpods_headphone\n",
    "# determining the name of the file\n",
    "file_name = 'Boat_airpods_headphone.xlsx'\n",
    "  \n",
    "# saving the excel\n",
    "Boat_airpods_headphone.to_excel(file_name)\n",
    "print('DataFrame is written to Excel File successfully.')"
   ]
  },
  {
   "cell_type": "code",
   "execution_count": 19,
   "metadata": {},
   "outputs": [
    {
     "name": "stdout",
     "output_type": "stream",
     "text": [
      "DataFrame is written to Excel File successfully.\n"
     ]
    }
   ],
   "source": [
    "#Activating the chrome browser\n",
    "driver = webdriver.Chrome(r\"C:\\Users\\Jayasurya E\\Downloads\\chromedriver_win32 (1)\\chromedriver\")\n",
    "url = \"https://www.flipkart.com/jbl-c150si-wired-headset/product-reviews/itm5f6934af69fb7?pid=ACCEHDJBEJSQYYKU&lid=LSTACCEHDJBEJSQYYKUKRH1QM&marketplace=FLIPKART&page=2\"\n",
    "driver.get(url)\n",
    "# Creating empty list\n",
    "Review=[]\n",
    "Stars=[]\n",
    "\n",
    "time.sleep(4)\n",
    "\n",
    "for i in range(0,50):#for loop for scrapping 4 page\n",
    "    \n",
    "    url=driver.find_element_by_xpath(\"//nav[@class='yFHi8N']/a[12]\").get_attribute('href')\n",
    "    driver.get(url)\n",
    "    \n",
    "    #for scrapping the number of stars\n",
    "    for j in driver.find_elements_by_xpath(\"//div[@class='col _2wzgFH K0kLPL']/div[1]/div[1]\"):\n",
    "        Stars.append(j.text)\n",
    "    #for scrapping the short review\n",
    "    for k in driver.find_elements_by_xpath(\"//div[@class='col _2wzgFH K0kLPL']/div[2]\"):\n",
    "        Review.append(k.text)\n",
    "    \n",
    "\n",
    "    \n",
    "time.sleep(3)       \n",
    "#Combining all the lists into a single dataframe\n",
    "jbl_headphone=pd.DataFrame({'Number of Stars': Stars,\n",
    "               'Full Review': Review})\n",
    "jbl_headphone\n",
    "# determining the name of the file\n",
    "file_name = 'jbl_headphone.xlsx'\n",
    "  \n",
    "# saving the excel\n",
    "jbl_headphone.to_excel(file_name)\n",
    "print('DataFrame is written to Excel File successfully.')"
   ]
  },
  {
   "cell_type": "markdown",
   "metadata": {},
   "source": [
    "## Smartwatch"
   ]
  },
  {
   "cell_type": "code",
   "execution_count": 20,
   "metadata": {},
   "outputs": [
    {
     "name": "stdout",
     "output_type": "stream",
     "text": [
      "DataFrame is written to Excel File successfully.\n"
     ]
    }
   ],
   "source": [
    "#Activating the chrome browser\n",
    "driver = webdriver.Chrome(r\"C:\\Users\\Jayasurya E\\Downloads\\chromedriver_win32 (1)\\chromedriver\")\n",
    "url = \"https://www.flipkart.com/boat-storm-smartwatch/product-reviews/itm215a48c547168?pid=SMWG3EC4YGGEKAMG&lid=LSTSMWG3EC4YGGEKAMGVE6LAK&marketplace=FLIPKART&page=2\"\n",
    "driver.get(url)\n",
    "# Creating empty list\n",
    "Review=[]\n",
    "Stars=[]\n",
    "\n",
    "time.sleep(4)\n",
    "\n",
    "for i in range(0,50):#for loop for scrapping 4 page\n",
    "    \n",
    "    url=driver.find_element_by_xpath(\"//nav[@class='yFHi8N']/a[12]\").get_attribute('href')\n",
    "    driver.get(url)\n",
    "    \n",
    "    #for scrapping the number of stars\n",
    "    for j in driver.find_elements_by_xpath(\"//div[@class='col _2wzgFH K0kLPL']/div[1]/div[1]\"):\n",
    "        Stars.append(j.text)\n",
    "    #for scrapping the short review\n",
    "    for k in driver.find_elements_by_xpath(\"//div[@class='col _2wzgFH K0kLPL']/div[2]\"):\n",
    "        Review.append(k.text)\n",
    "    \n",
    "\n",
    "    \n",
    "time.sleep(3)       \n",
    "#Combining all the lists into a single dataframe\n",
    "boat_smartwatch=pd.DataFrame({'Number of Stars': Stars,\n",
    "               'Full Review': Review})\n",
    "boat_smartwatch\n",
    "# determining the name of the file\n",
    "file_name = 'boat_smartwatch.xlsx'\n",
    "  \n",
    "# saving the excel\n",
    "boat_smartwatch.to_excel(file_name)\n",
    "print('DataFrame is written to Excel File successfully.')"
   ]
  },
  {
   "cell_type": "code",
   "execution_count": 21,
   "metadata": {},
   "outputs": [
    {
     "name": "stdout",
     "output_type": "stream",
     "text": [
      "DataFrame is written to Excel File successfully.\n"
     ]
    }
   ],
   "source": [
    "#Activating the chrome browser\n",
    "driver = webdriver.Chrome(r\"C:\\Users\\Jayasurya E\\Downloads\\chromedriver_win32 (1)\\chromedriver\")\n",
    "url = \"https://www.flipkart.com/fire-boltt-ninja-touch-wake-spo2-smartwatch/product-reviews/itm05b47a90c7c32?pid=SMWG4GF33JFGSVNE&lid=LSTSMWG4GF33JFGSVNE1TJNRY&marketplace=FLIPKART&page=2\"\n",
    "driver.get(url)\n",
    "# Creating empty list\n",
    "Review=[]\n",
    "Stars=[]\n",
    "\n",
    "time.sleep(4)\n",
    "\n",
    "for i in range(0,45):#for loop for scrapping 4 page\n",
    "    \n",
    "    url=driver.find_element_by_xpath(\"//nav[@class='yFHi8N']/a[12]\").get_attribute('href')\n",
    "    driver.get(url)\n",
    "    \n",
    "    #for scrapping the number of stars\n",
    "    for j in driver.find_elements_by_xpath(\"//div[@class='col _2wzgFH K0kLPL']/div[1]/div[1]\"):\n",
    "        Stars.append(j.text)\n",
    "    #for scrapping the short review\n",
    "    for k in driver.find_elements_by_xpath(\"//div[@class='col _2wzgFH K0kLPL']/div[2]\"):\n",
    "        Review.append(k.text)\n",
    "    \n",
    "\n",
    "    \n",
    "time.sleep(3)       \n",
    "#Combining all the lists into a single dataframe\n",
    "Fire_Boltt_smartwatch=pd.DataFrame({'Number of Stars': Stars,\n",
    "               'Full Review': Review})\n",
    "Fire_Boltt_smartwatch\n",
    "# determining the name of the file\n",
    "file_name = 'Fire_Boltt_smartwatch.xlsx'\n",
    "  \n",
    "# saving the excel\n",
    "Fire_Boltt_smartwatch.to_excel(file_name)\n",
    "print('DataFrame is written to Excel File successfully.')"
   ]
  },
  {
   "cell_type": "code",
   "execution_count": 22,
   "metadata": {},
   "outputs": [
    {
     "name": "stdout",
     "output_type": "stream",
     "text": [
      "DataFrame is written to Excel File successfully.\n"
     ]
    }
   ],
   "source": [
    "#Activating the chrome browser\n",
    "driver = webdriver.Chrome(r\"C:\\Users\\Jayasurya E\\Downloads\\chromedriver_win32 (1)\\chromedriver\")\n",
    "url = \"https://www.flipkart.com/noise-colorfit-pro-3-smartwatch/product-reviews/itm2e817033f1466?pid=SMWFY8QMY3YQJT7T&lid=LSTSMWFY8QMY3YQJT7T8IR1RK&marketplace=FLIPKART&page=2\"\n",
    "driver.get(url)\n",
    "# Creating empty list\n",
    "Review=[]\n",
    "Stars=[]\n",
    "\n",
    "time.sleep(4)\n",
    "\n",
    "for i in range(0,50):#for loop for scrapping 4 page\n",
    "    \n",
    "    url=driver.find_element_by_xpath(\"//nav[@class='yFHi8N']/a[12]\").get_attribute('href')\n",
    "    driver.get(url)\n",
    "    \n",
    "    #for scrapping the number of stars\n",
    "    for j in driver.find_elements_by_xpath(\"//div[@class='col _2wzgFH K0kLPL']/div[1]/div[1]\"):\n",
    "        Stars.append(j.text)\n",
    "    #for scrapping the short review\n",
    "    for k in driver.find_elements_by_xpath(\"//div[@class='col _2wzgFH K0kLPL']/div[2]\"):\n",
    "        Review.append(k.text)\n",
    "    \n",
    "\n",
    "    \n",
    "time.sleep(3)       \n",
    "#Combining all the lists into a single dataframe\n",
    "Noise_smartwatch=pd.DataFrame({'Number of Stars': Stars,\n",
    "               'Full Review': Review})\n",
    "Noise_smartwatch\n",
    "# determining the name of the file\n",
    "file_name = 'Noise_smartwatch.xlsx'\n",
    "  \n",
    "# saving the excel\n",
    "Noise_smartwatch.to_excel(file_name)\n",
    "print('DataFrame is written to Excel File successfully.')"
   ]
  },
  {
   "cell_type": "code",
   "execution_count": 23,
   "metadata": {},
   "outputs": [
    {
     "name": "stdout",
     "output_type": "stream",
     "text": [
      "DataFrame is written to Excel File successfully.\n"
     ]
    }
   ],
   "source": [
    "#Activating the chrome browser\n",
    "driver = webdriver.Chrome(r\"C:\\Users\\Jayasurya E\\Downloads\\chromedriver_win32 (1)\\chromedriver\")\n",
    "url = \"https://www.flipkart.com/realme-watch-s-smartwatch/product-reviews/itmbff454c99d08c?pid=SMWG3GDHZERBGA83&lid=LSTSMWG3GDHZERBGA83EULA3B&marketplace=FLIPKART&page=2\"\n",
    "driver.get(url)\n",
    "# Creating empty list\n",
    "Review=[]\n",
    "Stars=[]\n",
    "\n",
    "time.sleep(4)\n",
    "\n",
    "for i in range(0,50):#for loop for scrapping 4 page\n",
    "    \n",
    "    url=driver.find_element_by_xpath(\"//nav[@class='yFHi8N']/a[12]\").get_attribute('href')\n",
    "    driver.get(url)\n",
    "    \n",
    "    #for scrapping the number of stars\n",
    "    for j in driver.find_elements_by_xpath(\"//div[@class='col _2wzgFH K0kLPL']/div[1]/div[1]\"):\n",
    "        Stars.append(j.text)\n",
    "    #for scrapping the short review\n",
    "    for k in driver.find_elements_by_xpath(\"//div[@class='col _2wzgFH K0kLPL']/div[2]\"):\n",
    "        Review.append(k.text)\n",
    "    \n",
    "\n",
    "    \n",
    "time.sleep(3)       \n",
    "#Combining all the lists into a single dataframe\n",
    "Realme_smartwatch=pd.DataFrame({'Number of Stars': Stars,\n",
    "               'Full Review': Review})\n",
    "Realme_smartwatch\n",
    "# determining the name of the file\n",
    "file_name = 'Realme_smartwatch.xlsx'\n",
    "  \n",
    "# saving the excel\n",
    "Realme_smartwatch.to_excel(file_name)\n",
    "print('DataFrame is written to Excel File successfully.')"
   ]
  },
  {
   "cell_type": "code",
   "execution_count": 24,
   "metadata": {},
   "outputs": [
    {
     "name": "stdout",
     "output_type": "stream",
     "text": [
      "DataFrame is written to Excel File successfully.\n"
     ]
    }
   ],
   "source": [
    "#Activating the chrome browser\n",
    "driver = webdriver.Chrome(r\"C:\\Users\\Jayasurya E\\Downloads\\chromedriver_win32 (1)\\chromedriver\")\n",
    "url = \"https://www.flipkart.com/huami-amazfit-gts-amoled-smartwatch/product-reviews/itmd8be178f03412?pid=SMWFNSX99H6CE4MN&lid=LSTSMWFNSX99H6CE4MNDJQZVB&marketplace=FLIPKART&page=2\"\n",
    "driver.get(url)\n",
    "# Creating empty list\n",
    "Review=[]\n",
    "Stars=[]\n",
    "\n",
    "time.sleep(4)\n",
    "\n",
    "for i in range(0,50):#for loop for scrapping 4 page\n",
    "    \n",
    "    url=driver.find_element_by_xpath(\"//nav[@class='yFHi8N']/a[12]\").get_attribute('href')\n",
    "    driver.get(url)\n",
    "    \n",
    "    #for scrapping the number of stars\n",
    "    for j in driver.find_elements_by_xpath(\"//div[@class='col _2wzgFH K0kLPL']/div[1]/div[1]\"):\n",
    "        Stars.append(j.text)\n",
    "    #for scrapping the short review\n",
    "    for k in driver.find_elements_by_xpath(\"//div[@class='col _2wzgFH K0kLPL']/div[2]\"):\n",
    "        Review.append(k.text)\n",
    "    \n",
    "\n",
    "    \n",
    "time.sleep(3)       \n",
    "#Combining all the lists into a single dataframe\n",
    "Huami_smartwatch=pd.DataFrame({'Number of Stars': Stars,\n",
    "               'Full Review': Review})\n",
    "Huami_smartwatch\n",
    "# determining the name of the file\n",
    "file_name = 'Huami_smartwatch.xlsx'\n",
    "  \n",
    "# saving the excel\n",
    "Huami_smartwatch.to_excel(file_name)\n",
    "print('DataFrame is written to Excel File successfully.')"
   ]
  },
  {
   "cell_type": "markdown",
   "metadata": {},
   "source": [
    "## Professional Camera"
   ]
  },
  {
   "cell_type": "code",
   "execution_count": 25,
   "metadata": {},
   "outputs": [
    {
     "name": "stdout",
     "output_type": "stream",
     "text": [
      "DataFrame is written to Excel File successfully.\n"
     ]
    }
   ],
   "source": [
    "#Activating the chrome browser\n",
    "driver = webdriver.Chrome(r\"C:\\Users\\Jayasurya E\\Downloads\\chromedriver_win32 (1)\\chromedriver\")\n",
    "url = \"https://www.flipkart.com/canon-eos-3000d-dslr-camera-1-body-18-55-mm-lens/product-reviews/itm6f665fea97bc2?pid=CAMF3DHJURPEMNRN&lid=LSTCAMF3DHJURPEMNRNYD4BKP&marketplace=FLIPKART&page=2\"\n",
    "driver.get(url)\n",
    "# Creating empty list\n",
    "Review=[]\n",
    "Stars=[]\n",
    "\n",
    "time.sleep(4)\n",
    "\n",
    "for i in range(0,50):#for loop for scrapping 4 page\n",
    "    \n",
    "    url=driver.find_element_by_xpath(\"//nav[@class='yFHi8N']/a[12]\").get_attribute('href')\n",
    "    driver.get(url)\n",
    "    \n",
    "    #for scrapping the number of stars\n",
    "    for j in driver.find_elements_by_xpath(\"//div[@class='col _2wzgFH K0kLPL']/div[1]/div[1]\"):\n",
    "        Stars.append(j.text)\n",
    "    #for scrapping the short review\n",
    "    for k in driver.find_elements_by_xpath(\"//div[@class='col _2wzgFH K0kLPL']/div[2]\"):\n",
    "        Review.append(k.text)\n",
    "    \n",
    "\n",
    "    \n",
    "time.sleep(3)       \n",
    "#Combining all the lists into a single dataframe\n",
    "Canon_Eos_Camera=pd.DataFrame({'Number of Stars': Stars,\n",
    "               'Full Review': Review})\n",
    "Canon_Eos_Camera\n",
    "# determining the name of the file\n",
    "file_name = 'Canon_Eos_Camera.xlsx'\n",
    "  \n",
    "# saving the excel\n",
    "Canon_Eos_Camera.to_excel(file_name)\n",
    "print('DataFrame is written to Excel File successfully.')"
   ]
  },
  {
   "cell_type": "code",
   "execution_count": 26,
   "metadata": {},
   "outputs": [
    {
     "name": "stdout",
     "output_type": "stream",
     "text": [
      "DataFrame is written to Excel File successfully.\n"
     ]
    }
   ],
   "source": [
    "#Activating the chrome browser\n",
    "driver = webdriver.Chrome(r\"C:\\Users\\Jayasurya E\\Downloads\\chromedriver_win32 (1)\\chromedriver\")\n",
    "url = \"https://www.flipkart.com/canon-eos-200d-ii-dslr-camera-ef-s18-55mm-stm/product-reviews/itm5d6e44f7fd976?pid=DLLFFNVDYGQN9XCS&lid=LSTDLLFFNVDYGQN9XCSDPECPX&marketplace=FLIPKART&page=2\"\n",
    "driver.get(url)\n",
    "# Creating empty list\n",
    "Review=[]\n",
    "Stars=[]\n",
    "\n",
    "time.sleep(4)\n",
    "\n",
    "for i in range(0,35):#for loop for scrapping 4 page\n",
    "    \n",
    "    url=driver.find_element_by_xpath(\"//nav[@class='yFHi8N']/a[12]\").get_attribute('href')\n",
    "    driver.get(url)\n",
    "    \n",
    "    #for scrapping the number of stars\n",
    "    for j in driver.find_elements_by_xpath(\"//div[@class='col _2wzgFH K0kLPL']/div[1]/div[1]\"):\n",
    "        Stars.append(j.text)\n",
    "    #for scrapping the short review\n",
    "    for k in driver.find_elements_by_xpath(\"//div[@class='col _2wzgFH K0kLPL']/div[2]\"):\n",
    "        Review.append(k.text)\n",
    "    \n",
    "\n",
    "    \n",
    "time.sleep(3)       \n",
    "#Combining all the lists into a single dataframe\n",
    "Canon_Eos_200_Camera=pd.DataFrame({'Number of Stars': Stars,\n",
    "               'Full Review': Review})\n",
    "Canon_Eos_200_Camera\n",
    "# determining the name of the file\n",
    "file_name = 'Canon_Eos_200_Camera.xlsx'\n",
    "  \n",
    "# saving the excel\n",
    "Canon_Eos_200_Camera.to_excel(file_name)\n",
    "print('DataFrame is written to Excel File successfully.')"
   ]
  },
  {
   "cell_type": "code",
   "execution_count": 27,
   "metadata": {},
   "outputs": [
    {
     "name": "stdout",
     "output_type": "stream",
     "text": [
      "DataFrame is written to Excel File successfully.\n"
     ]
    }
   ],
   "source": [
    "#Activating the chrome browser\n",
    "driver = webdriver.Chrome(r\"C:\\Users\\Jayasurya E\\Downloads\\chromedriver_win32 (1)\\chromedriver\")\n",
    "url = \"https://www.flipkart.com/canon-eos-1500d-dslr-camera-body-18-55-mm-ii-lens/product-reviews/itm033175ceb4ddd?pid=DLLFAEWE22ZAERXG&lid=LSTDLLFAEWE22ZAERXGWBJCOR&marketplace=FLIPKART&page=2\"\n",
    "driver.get(url)\n",
    "# Creating empty list\n",
    "Review=[]\n",
    "Stars=[]\n",
    "\n",
    "time.sleep(4)\n",
    "\n",
    "for i in range(0,100):#for loop for scrapping 4 page\n",
    "    \n",
    "    url=driver.find_element_by_xpath(\"//nav[@class='yFHi8N']/a[12]\").get_attribute('href')\n",
    "    driver.get(url)\n",
    "    \n",
    "    #for scrapping the number of stars\n",
    "    for j in driver.find_elements_by_xpath(\"//div[@class='col _2wzgFH K0kLPL']/div[1]/div[1]\"):\n",
    "        Stars.append(j.text)\n",
    "    #for scrapping the short review\n",
    "    for k in driver.find_elements_by_xpath(\"//div[@class='col _2wzgFH K0kLPL']/div[2]\"):\n",
    "        Review.append(k.text)\n",
    "    \n",
    "\n",
    "    \n",
    "time.sleep(3)       \n",
    "#Combining all the lists into a single dataframe\n",
    "Canon_Eos_1500_Camera=pd.DataFrame({'Number of Stars': Stars,\n",
    "               'Full Review': Review})\n",
    "Canon_Eos_1500_Camera\n",
    "# determining the name of the file\n",
    "file_name = 'Canon_Eos_1500_Camera.xlsx'\n",
    "  \n",
    "# saving the excel\n",
    "Canon_Eos_1500_Camera.to_excel(file_name)\n",
    "print('DataFrame is written to Excel File successfully.')"
   ]
  },
  {
   "cell_type": "code",
   "execution_count": 28,
   "metadata": {},
   "outputs": [
    {
     "name": "stdout",
     "output_type": "stream",
     "text": [
      "DataFrame is written to Excel File successfully.\n"
     ]
    }
   ],
   "source": [
    "#Activating the chrome browser\n",
    "driver = webdriver.Chrome(r\"C:\\Users\\Jayasurya E\\Downloads\\chromedriver_win32 (1)\\chromedriver\")\n",
    "url = \"https://www.flipkart.com/sony-alpha-ilce-6000y-b-in5-mirrorless-camera-body-dual-lens-16-50-mm-55-210/product-reviews/itm7c7f3243ab5e5?pid=CAME7JYVSNMHNYHQ&lid=LSTCAME7JYVSNMHNYHQUJPHRB&marketplace=FLIPKART&page=2\"\n",
    "driver.get(url)\n",
    "# Creating empty list\n",
    "Review=[]\n",
    "Stars=[]\n",
    "\n",
    "time.sleep(4)\n",
    "\n",
    "for i in range(0,13):#for loop for scrapping 4 page\n",
    "    \n",
    "    url=driver.find_element_by_xpath(\"//nav[@class='yFHi8N']/a[12]\").get_attribute('href')\n",
    "    driver.get(url)\n",
    "    \n",
    "    #for scrapping the number of stars\n",
    "    for j in driver.find_elements_by_xpath(\"//div[@class='col _2wzgFH K0kLPL']/div[1]/div[1]\"):\n",
    "        Stars.append(j.text)\n",
    "    #for scrapping the short review\n",
    "    for k in driver.find_elements_by_xpath(\"//div[@class='col _2wzgFH K0kLPL']/div[2]\"):\n",
    "        Review.append(k.text)\n",
    "    \n",
    "\n",
    "    \n",
    "time.sleep(3)       \n",
    "#Combining all the lists into a single dataframe\n",
    "Sony_alpha_Camera=pd.DataFrame({'Number of Stars': Stars,\n",
    "               'Full Review': Review})\n",
    "Sony_alpha_Camera\n",
    "# determining the name of the file\n",
    "file_name = 'Sony_alpha_Camera.xlsx'\n",
    "  \n",
    "# saving the excel\n",
    "Sony_alpha_Camera.to_excel(file_name)\n",
    "print('DataFrame is written to Excel File successfully.')"
   ]
  },
  {
   "cell_type": "markdown",
   "metadata": {},
   "source": [
    "## Printers"
   ]
  },
  {
   "cell_type": "code",
   "execution_count": 29,
   "metadata": {},
   "outputs": [
    {
     "name": "stdout",
     "output_type": "stream",
     "text": [
      "DataFrame is written to Excel File successfully.\n"
     ]
    }
   ],
   "source": [
    "#Activating the chrome browser\n",
    "driver = webdriver.Chrome(r\"C:\\Users\\Jayasurya E\\Downloads\\chromedriver_win32 (1)\\chromedriver\")\n",
    "url = \"https://www.flipkart.com/hp-ink-tank-wireless-419-multi-function-wifi-color-printer-voice-activated-printing-google-assistant-alexa/product-reviews/itmf564yjpjfjbgp?pid=PRNF55Z7AV7GZDNX&lid=LSTPRNF55Z7AV7GZDNX4AUTPP&marketplace=FLIPKART&page=2\"\n",
    "driver.get(url)\n",
    "# Creating empty list\n",
    "Review=[]\n",
    "Stars=[]\n",
    "\n",
    "time.sleep(4)\n",
    "\n",
    "for i in range(0,9):#for loop for scrapping 4 page\n",
    "    \n",
    "    url=driver.find_element_by_xpath(\"//nav[@class='yFHi8N']/a[12]\").get_attribute('href')\n",
    "    driver.get(url)\n",
    "    \n",
    "    #for scrapping the number of stars\n",
    "    for j in driver.find_elements_by_xpath(\"//div[@class='col _2wzgFH K0kLPL']/div[1]/div[1]\"):\n",
    "        Stars.append(j.text)\n",
    "    #for scrapping the short review\n",
    "    for k in driver.find_elements_by_xpath(\"//div[@class='col _2wzgFH K0kLPL']/div[2]\"):\n",
    "        Review.append(k.text)\n",
    "    \n",
    "\n",
    "    \n",
    "time.sleep(3)       \n",
    "#Combining all the lists into a single dataframe\n",
    "hp_ink_printers=pd.DataFrame({'Number of Stars': Stars,\n",
    "               'Full Review': Review})\n",
    "hp_ink_printers\n",
    "# determining the name of the file\n",
    "file_name = 'hp_ink_printers.xlsx'\n",
    "  \n",
    "# saving the excel\n",
    "hp_ink_printers.to_excel(file_name)\n",
    "print('DataFrame is written to Excel File successfully.')"
   ]
  },
  {
   "cell_type": "code",
   "execution_count": 31,
   "metadata": {},
   "outputs": [
    {
     "name": "stdout",
     "output_type": "stream",
     "text": [
      "DataFrame is written to Excel File successfully.\n"
     ]
    }
   ],
   "source": [
    "#Activating the chrome browser\n",
    "driver = webdriver.Chrome(r\"C:\\Users\\Jayasurya E\\Downloads\\chromedriver_win32 (1)\\chromedriver\")\n",
    "url = \"https://www.flipkart.com/epson-l3110-multi-function-color-printer/product-reviews/itmfb28z2g9ygubg?pid=PRNFB28YS326QDZF&lid=LSTPRNFB28YS326QDZF5KC7M2&marketplace=FLIPKART&page=2\"\n",
    "driver.get(url)\n",
    "# Creating empty list\n",
    "Review=[]\n",
    "Stars=[]\n",
    "\n",
    "time.sleep(4)\n",
    "\n",
    "for i in range(0,50):#for loop for scrapping 4 page\n",
    "    \n",
    "    url=driver.find_element_by_xpath(\"//nav[@class='yFHi8N']/a[12]\").get_attribute('href')\n",
    "    driver.get(url)\n",
    "    \n",
    "    #for scrapping the number of stars\n",
    "    for j in driver.find_elements_by_xpath(\"//div[@class='col _2wzgFH K0kLPL']/div[1]/div[1]\"):\n",
    "        Stars.append(j.text)\n",
    "    #for scrapping the short review\n",
    "    for k in driver.find_elements_by_xpath(\"//div[@class='col _2wzgFH K0kLPL']/div[2]\"):\n",
    "        Review.append(k.text)\n",
    "    \n",
    "\n",
    "    \n",
    "time.sleep(3)       \n",
    "#Combining all the lists into a single dataframe\n",
    "Epson_printers=pd.DataFrame({'Number of Stars': Stars,\n",
    "               'Full Review': Review})\n",
    "Epson_printers\n",
    "# determining the name of the file\n",
    "file_name = 'Epson_printers.xlsx'\n",
    "  \n",
    "# saving the excel\n",
    "Epson_printers.to_excel(file_name)\n",
    "print('DataFrame is written to Excel File successfully.')"
   ]
  },
  {
   "cell_type": "code",
   "execution_count": 32,
   "metadata": {},
   "outputs": [
    {
     "name": "stdout",
     "output_type": "stream",
     "text": [
      "DataFrame is written to Excel File successfully.\n"
     ]
    }
   ],
   "source": [
    "#Activating the chrome browser\n",
    "driver = webdriver.Chrome(r\"C:\\Users\\Jayasurya E\\Downloads\\chromedriver_win32 (1)\\chromedriver\")\n",
    "url = \"https://www.flipkart.com/canon-g3012-multi-function-wifi-color-printer/product-reviews/itm22afd78e04fa3?pid=PRNF2QC6BX5M9NAJ&lid=LSTPRNF2QC6BX5M9NAJGZLEW6&marketplace=FLIPKART&page=2\"\n",
    "driver.get(url)\n",
    "# Creating empty list\n",
    "Review=[]\n",
    "Stars=[]\n",
    "\n",
    "time.sleep(4)\n",
    "\n",
    "for i in range(0,40):#for loop for scrapping 4 page\n",
    "    \n",
    "    url=driver.find_element_by_xpath(\"//nav[@class='yFHi8N']/a[12]\").get_attribute('href')\n",
    "    driver.get(url)\n",
    "    \n",
    "    #for scrapping the number of stars\n",
    "    for j in driver.find_elements_by_xpath(\"//div[@class='col _2wzgFH K0kLPL']/div[1]/div[1]\"):\n",
    "        Stars.append(j.text)\n",
    "    #for scrapping the short review\n",
    "    for k in driver.find_elements_by_xpath(\"//div[@class='col _2wzgFH K0kLPL']/div[2]\"):\n",
    "        Review.append(k.text)\n",
    "    \n",
    "\n",
    "    \n",
    "time.sleep(3)       \n",
    "#Combining all the lists into a single dataframe\n",
    "Canon_printers=pd.DataFrame({'Number of Stars': Stars,\n",
    "               'Full Review': Review})\n",
    "Canon_printers\n",
    "# determining the name of the file\n",
    "file_name = 'Canon_printers.xlsx'\n",
    "  \n",
    "# saving the excel\n",
    "Canon_printers.to_excel(file_name)\n",
    "print('DataFrame is written to Excel File successfully.')"
   ]
  },
  {
   "cell_type": "code",
   "execution_count": 33,
   "metadata": {},
   "outputs": [
    {
     "name": "stdout",
     "output_type": "stream",
     "text": [
      "DataFrame is written to Excel File successfully.\n"
     ]
    }
   ],
   "source": [
    "#Activating the chrome browser\n",
    "driver = webdriver.Chrome(r\"C:\\Users\\Jayasurya E\\Downloads\\chromedriver_win32 (1)\\chromedriver\")\n",
    "url = \"https://www.flipkart.com/hp-deskjet-2331-multi-function-color-printer/product-reviews/itm5708dbe303a73?pid=PRNFTXAWZ9DZ2KHR&lid=LSTPRNFTXAWZ9DZ2KHRP7ZAXV&marketplace=FLIPKART&page=2\"\n",
    "driver.get(url)\n",
    "# Creating empty list\n",
    "Review=[]\n",
    "Stars=[]\n",
    "\n",
    "time.sleep(4)\n",
    "\n",
    "for i in range(0,50):#for loop for scrapping 4 page\n",
    "    \n",
    "    url=driver.find_element_by_xpath(\"//nav[@class='yFHi8N']/a[12]\").get_attribute('href')\n",
    "    driver.get(url)\n",
    "    \n",
    "    #for scrapping the number of stars\n",
    "    for j in driver.find_elements_by_xpath(\"//div[@class='col _2wzgFH K0kLPL']/div[1]/div[1]\"):\n",
    "        Stars.append(j.text)\n",
    "    #for scrapping the short review\n",
    "    for k in driver.find_elements_by_xpath(\"//div[@class='col _2wzgFH K0kLPL']/div[2]\"):\n",
    "        Review.append(k.text)\n",
    "    \n",
    "\n",
    "    \n",
    "time.sleep(3)       \n",
    "#Combining all the lists into a single dataframe\n",
    "Hp_dj_printers=pd.DataFrame({'Number of Stars': Stars,\n",
    "               'Full Review': Review})\n",
    "Hp_dj_printers\n",
    "# determining the name of the file\n",
    "file_name = 'Hp_dj_printers.xlsx'\n",
    "  \n",
    "# saving the excel\n",
    "Hp_dj_printers.to_excel(file_name)\n",
    "print('DataFrame is written to Excel File successfully.')"
   ]
  },
  {
   "cell_type": "code",
   "execution_count": 35,
   "metadata": {},
   "outputs": [
    {
     "name": "stdout",
     "output_type": "stream",
     "text": [
      "DataFrame is written to Excel File successfully.\n"
     ]
    }
   ],
   "source": [
    "#Activating the chrome browser\n",
    "driver = webdriver.Chrome(r\"C:\\Users\\Jayasurya E\\Downloads\\chromedriver_win32 (1)\\chromedriver\")\n",
    "url = \"https://www.flipkart.com/canon-mg2570s-multi-function-color-printer/product-reviews/itme8pd6c9gcente?pid=PRNE8PD6M53KZZXA&lid=LSTPRNE8PD6M53KZZXA9GFNEE&marketplace=FLIPKART&page=2\"\n",
    "driver.get(url)\n",
    "# Creating empty list\n",
    "Review=[]\n",
    "Stars=[]\n",
    "\n",
    "time.sleep(4)\n",
    "\n",
    "for i in range(0,50):#for loop for scrapping 4 page\n",
    "    \n",
    "    url=driver.find_element_by_xpath(\"//nav[@class='yFHi8N']/a[12]\").get_attribute('href')\n",
    "    driver.get(url)\n",
    "    \n",
    "    #for scrapping the number of stars\n",
    "    for j in driver.find_elements_by_xpath(\"//div[@class='col _2wzgFH K0kLPL']/div[1]/div[1]\"):\n",
    "        Stars.append(j.text)\n",
    "    #for scrapping the short review\n",
    "    for k in driver.find_elements_by_xpath(\"//div[@class='col _2wzgFH K0kLPL']/div[2]\"):\n",
    "        Review.append(k.text)\n",
    "    \n",
    "\n",
    "    \n",
    "time.sleep(3)       \n",
    "#Combining all the lists into a single dataframe\n",
    "Canon_mg_printers=pd.DataFrame({'Number of Stars': Stars,\n",
    "               'Full Review': Review})\n",
    "Canon_mg_printers\n",
    "# determining the name of the file\n",
    "file_name = 'Canon_mg_printers.xlsx'\n",
    "  \n",
    "# saving the excel\n",
    "Canon_mg_printers.to_excel(file_name)\n",
    "print('DataFrame is written to Excel File successfully.')"
   ]
  },
  {
   "cell_type": "code",
   "execution_count": 36,
   "metadata": {},
   "outputs": [
    {
     "name": "stdout",
     "output_type": "stream",
     "text": [
      "DataFrame is written to Excel File successfully.\n"
     ]
    }
   ],
   "source": [
    "#Activating the chrome browser\n",
    "driver = webdriver.Chrome(r\"C:\\Users\\Jayasurya E\\Downloads\\chromedriver_win32 (1)\\chromedriver\")\n",
    "url = \"https://www.flipkart.com/epson-l3150-multi-function-wifi-color-printer/product-reviews/itmfb28zqjb5gqhc?pid=PRNFB28YQ7CSGJ7P&lid=LSTPRNFB28YQ7CSGJ7PZBZQVK&marketplace=FLIPKART&page=2\"\n",
    "driver.get(url)\n",
    "# Creating empty list\n",
    "Review=[]\n",
    "Stars=[]\n",
    "\n",
    "time.sleep(4)\n",
    "\n",
    "for i in range(0,50):#for loop for scrapping 4 page\n",
    "    \n",
    "    url=driver.find_element_by_xpath(\"//nav[@class='yFHi8N']/a[12]\").get_attribute('href')\n",
    "    driver.get(url)\n",
    "    \n",
    "    #for scrapping the number of stars\n",
    "    for j in driver.find_elements_by_xpath(\"//div[@class='col _2wzgFH K0kLPL']/div[1]/div[1]\"):\n",
    "        Stars.append(j.text)\n",
    "    #for scrapping the short review\n",
    "    for k in driver.find_elements_by_xpath(\"//div[@class='col _2wzgFH K0kLPL']/div[2]\"):\n",
    "        Review.append(k.text)\n",
    "    \n",
    "\n",
    "    \n",
    "time.sleep(3)       \n",
    "#Combining all the lists into a single dataframe\n",
    "Epson_L3150_printers=pd.DataFrame({'Number of Stars': Stars,\n",
    "               'Full Review': Review})\n",
    "Epson_L3150_printers\n",
    "# determining the name of the file\n",
    "file_name = 'Epson_L3150_printers.xlsx'\n",
    "  \n",
    "# saving the excel\n",
    "Epson_L3150_printers.to_excel(file_name)\n",
    "print('DataFrame is written to Excel File successfully.')"
   ]
  },
  {
   "cell_type": "markdown",
   "metadata": {},
   "source": [
    "## Monitors"
   ]
  },
  {
   "cell_type": "code",
   "execution_count": 37,
   "metadata": {},
   "outputs": [
    {
     "name": "stdout",
     "output_type": "stream",
     "text": [
      "DataFrame is written to Excel File successfully.\n"
     ]
    }
   ],
   "source": [
    "#Activating the chrome browser\n",
    "driver = webdriver.Chrome(r\"C:\\Users\\Jayasurya E\\Downloads\\chromedriver_win32 (1)\\chromedriver\")\n",
    "url = \"https://www.flipkart.com/dell-18-5-inch-hd-led-backlit-tn-panel-monitor-d1918h/product-reviews/itmewm8z6awyx9rr?pid=MONEWM8ZKY38PWVP&lid=LSTMONEWM8ZKY38PWVPIKWEMH&marketplace=FLIPKART&page=2\"\n",
    "driver.get(url)\n",
    "# Creating empty list\n",
    "Review=[]\n",
    "Stars=[]\n",
    "\n",
    "time.sleep(4)\n",
    "\n",
    "for i in range(0,60):#for loop for scrapping 4 page\n",
    "    \n",
    "    url=driver.find_element_by_xpath(\"//nav[@class='yFHi8N']/a[12]\").get_attribute('href')\n",
    "    driver.get(url)\n",
    "    \n",
    "    #for scrapping the number of stars\n",
    "    for j in driver.find_elements_by_xpath(\"//div[@class='col _2wzgFH K0kLPL']/div[1]/div[1]\"):\n",
    "        Stars.append(j.text)\n",
    "    #for scrapping the short review\n",
    "    for k in driver.find_elements_by_xpath(\"//div[@class='col _2wzgFH K0kLPL']/div[2]\"):\n",
    "        Review.append(k.text)\n",
    "    \n",
    "\n",
    "    \n",
    "time.sleep(3)       \n",
    "#Combining all the lists into a single dataframe\n",
    "dell_monitor=pd.DataFrame({'Number of Stars': Stars,\n",
    "               'Full Review': Review})\n",
    "dell_monitor\n",
    "# determining the name of the file\n",
    "file_name = 'dell_monitor.xlsx'\n",
    "  \n",
    "# saving the excel\n",
    "dell_monitor.to_excel(file_name)\n",
    "print('DataFrame is written to Excel File successfully.')"
   ]
  },
  {
   "cell_type": "code",
   "execution_count": 38,
   "metadata": {},
   "outputs": [
    {
     "name": "stdout",
     "output_type": "stream",
     "text": [
      "DataFrame is written to Excel File successfully.\n"
     ]
    }
   ],
   "source": [
    "#Activating the chrome browser\n",
    "driver = webdriver.Chrome(r\"C:\\Users\\Jayasurya E\\Downloads\\chromedriver_win32 (1)\\chromedriver\")\n",
    "url = \"https://www.flipkart.com/lg-21-5-inch-full-hd-ips-panel-monitor-22mk600m/product-reviews/itm297ef0f41b753?pid=MONFK842GG8RUHQQ&lid=LSTMONFK842GG8RUHQQW4GCES&marketplace=FLIPKART&page=2\"\n",
    "driver.get(url)\n",
    "# Creating empty list\n",
    "Review=[]\n",
    "Stars=[]\n",
    "\n",
    "time.sleep(4)\n",
    "\n",
    "for i in range(0,50):#for loop for scrapping 4 page\n",
    "    \n",
    "    url=driver.find_element_by_xpath(\"//nav[@class='yFHi8N']/a[12]\").get_attribute('href')\n",
    "    driver.get(url)\n",
    "    \n",
    "    #for scrapping the number of stars\n",
    "    for j in driver.find_elements_by_xpath(\"//div[@class='col _2wzgFH K0kLPL']/div[1]/div[1]\"):\n",
    "        Stars.append(j.text)\n",
    "    #for scrapping the short review\n",
    "    for k in driver.find_elements_by_xpath(\"//div[@class='col _2wzgFH K0kLPL']/div[2]\"):\n",
    "        Review.append(k.text)\n",
    "    \n",
    "\n",
    "    \n",
    "time.sleep(3)       \n",
    "#Combining all the lists into a single dataframe\n",
    "lg_21_monitor=pd.DataFrame({'Number of Stars': Stars,\n",
    "               'Full Review': Review})\n",
    "lg_21_monitor\n",
    "# determining the name of the file\n",
    "file_name = 'lg_21_monitor.xlsx'\n",
    "  \n",
    "# saving the excel\n",
    "lg_21_monitor.to_excel(file_name)\n",
    "print('DataFrame is written to Excel File successfully.')"
   ]
  },
  {
   "cell_type": "code",
   "execution_count": 39,
   "metadata": {},
   "outputs": [
    {
     "name": "stdout",
     "output_type": "stream",
     "text": [
      "DataFrame is written to Excel File successfully.\n"
     ]
    }
   ],
   "source": [
    "#Activating the chrome browser\n",
    "driver = webdriver.Chrome(r\"C:\\Users\\Jayasurya E\\Downloads\\chromedriver_win32 (1)\\chromedriver\")\n",
    "url = \"https://www.flipkart.com/acer-19-5-inch-hd-led-backlit-tn-panel-monitor-v206hql/product-reviews/itmeygcwhszg2vfh?pid=MONEYGCHK5GHSN6B&lid=LSTMONEYGCHK5GHSN6BEC82ID&marketplace=FLIPKART&page=2\"\n",
    "driver.get(url)\n",
    "# Creating empty list\n",
    "Review=[]\n",
    "Stars=[]\n",
    "\n",
    "time.sleep(4)\n",
    "\n",
    "for i in range(0,30):#for loop for scrapping 4 page\n",
    "    \n",
    "    url=driver.find_element_by_xpath(\"//nav[@class='yFHi8N']/a[12]\").get_attribute('href')\n",
    "    driver.get(url)\n",
    "    \n",
    "    #for scrapping the number of stars\n",
    "    for j in driver.find_elements_by_xpath(\"//div[@class='col _2wzgFH K0kLPL']/div[1]/div[1]\"):\n",
    "        Stars.append(j.text)\n",
    "    #for scrapping the short review\n",
    "    for k in driver.find_elements_by_xpath(\"//div[@class='col _2wzgFH K0kLPL']/div[2]\"):\n",
    "        Review.append(k.text)\n",
    "    \n",
    "\n",
    "    \n",
    "time.sleep(3)       \n",
    "#Combining all the lists into a single dataframe\n",
    "acer_monitor=pd.DataFrame({'Number of Stars': Stars,\n",
    "               'Full Review': Review})\n",
    "acer_monitor\n",
    "# determining the name of the file\n",
    "file_name = 'acer_monitor.xlsx'\n",
    "  \n",
    "# saving the excel\n",
    "acer_monitor.to_excel(file_name)\n",
    "print('DataFrame is written to Excel File successfully.')"
   ]
  },
  {
   "cell_type": "code",
   "execution_count": 40,
   "metadata": {},
   "outputs": [
    {
     "name": "stdout",
     "output_type": "stream",
     "text": [
      "DataFrame is written to Excel File successfully.\n"
     ]
    }
   ],
   "source": [
    "#Activating the chrome browser\n",
    "driver = webdriver.Chrome(r\"C:\\Users\\Jayasurya E\\Downloads\\chromedriver_win32 (1)\\chromedriver\")\n",
    "url = \"https://www.flipkart.com/lg-24-inch-full-hd-led-backlit-ips-panel-monitor-24mk600m/product-reviews/itmfb6jq2jgffrtj?pid=MONFB6JQFJEP7BZX&lid=LSTMONFB6JQFJEP7BZXOQNLTK&marketplace=FLIPKART&page=2\"\n",
    "driver.get(url)\n",
    "# Creating empty list\n",
    "Review=[]\n",
    "Stars=[]\n",
    "\n",
    "time.sleep(4)\n",
    "\n",
    "for i in range(0,20):#for loop for scrapping 4 page\n",
    "    \n",
    "    url=driver.find_element_by_xpath(\"//nav[@class='yFHi8N']/a[12]\").get_attribute('href')\n",
    "    driver.get(url)\n",
    "    \n",
    "    #for scrapping the number of stars\n",
    "    for j in driver.find_elements_by_xpath(\"//div[@class='col _2wzgFH K0kLPL']/div[1]/div[1]\"):\n",
    "        Stars.append(j.text)\n",
    "    #for scrapping the short review\n",
    "    for k in driver.find_elements_by_xpath(\"//div[@class='col _2wzgFH K0kLPL']/div[2]\"):\n",
    "        Review.append(k.text)\n",
    "    \n",
    "\n",
    "    \n",
    "time.sleep(3)       \n",
    "#Combining all the lists into a single dataframe\n",
    "lg_24_monitor=pd.DataFrame({'Number of Stars': Stars,\n",
    "               'Full Review': Review})\n",
    "lg_24_monitor\n",
    "# determining the name of the file\n",
    "file_name = 'lg_24_monitor.xlsx'\n",
    "  \n",
    "# saving the excel\n",
    "lg_24_monitor.to_excel(file_name)\n",
    "print('DataFrame is written to Excel File successfully.')"
   ]
  },
  {
   "cell_type": "code",
   "execution_count": 42,
   "metadata": {},
   "outputs": [
    {
     "name": "stdout",
     "output_type": "stream",
     "text": [
      "DataFrame is written to Excel File successfully.\n"
     ]
    }
   ],
   "source": [
    "#Activating the chrome browser\n",
    "driver = webdriver.Chrome(r\"C:\\Users\\Jayasurya E\\Downloads\\chromedriver_win32 (1)\\chromedriver\")\n",
    "url = \"https://www.flipkart.com/samsung-23-8-inch-curved-full-hd-led-backlit-va-panel-monitor-lc24f390fhwxxl/product-reviews/itmezu53yhwg2ayg?pid=MONEZU4Z8BYBV2GZ&lid=LSTMONEZU4Z8BYBV2GZCQOCQM&marketplace=FLIPKART&page=2\"\n",
    "driver.get(url)\n",
    "# Creating empty list\n",
    "Review=[]\n",
    "Stars=[]\n",
    "\n",
    "time.sleep(4)\n",
    "\n",
    "for i in range(0,30):#for loop for scrapping 4 page\n",
    "    \n",
    "    url=driver.find_element_by_xpath(\"//nav[@class='yFHi8N']/a[12]\").get_attribute('href')\n",
    "    driver.get(url)\n",
    "    \n",
    "    #for scrapping the number of stars\n",
    "    for j in driver.find_elements_by_xpath(\"//div[@class='col _2wzgFH K0kLPL']/div[1]/div[1]\"):\n",
    "        Stars.append(j.text)\n",
    "    #for scrapping the short review\n",
    "    for k in driver.find_elements_by_xpath(\"//div[@class='col _2wzgFH K0kLPL']/div[2]\"):\n",
    "        Review.append(k.text)\n",
    "    \n",
    "\n",
    "    \n",
    "time.sleep(3)       \n",
    "#Combining all the lists into a single dataframe\n",
    "samsung_24_monitor=pd.DataFrame({'Number of Stars': Stars,\n",
    "               'Full Review': Review})\n",
    "samsung_24_monitor\n",
    "# determining the name of the file\n",
    "file_name = 'samsung_24_monitor.xlsx'\n",
    "  \n",
    "# saving the excel\n",
    "samsung_24_monitor.to_excel(file_name)\n",
    "print('DataFrame is written to Excel File successfully.')"
   ]
  },
  {
   "cell_type": "code",
   "execution_count": 43,
   "metadata": {},
   "outputs": [
    {
     "name": "stdout",
     "output_type": "stream",
     "text": [
      "DataFrame is written to Excel File successfully.\n"
     ]
    }
   ],
   "source": [
    "#Activating the chrome browser\n",
    "driver = webdriver.Chrome(r\"C:\\Users\\Jayasurya E\\Downloads\\chromedriver_win32 (1)\\chromedriver\")\n",
    "url = \"https://www.flipkart.com/lg-18-5-inches-hd-led-backlit-tn-panel-monitor-19m38ab/product-reviews/itmeuchf5jfmqw8x?pid=MONEUCHFCQUFRSPD&lid=LSTMONEUCHFCQUFRSPDXOHRSV&marketplace=FLIPKART&page=2\"\n",
    "driver.get(url)\n",
    "# Creating empty list\n",
    "Review=[]\n",
    "Stars=[]\n",
    "\n",
    "time.sleep(4)\n",
    "\n",
    "for i in range(0,50):#for loop for scrapping 4 page\n",
    "    \n",
    "    url=driver.find_element_by_xpath(\"//nav[@class='yFHi8N']/a[12]\").get_attribute('href')\n",
    "    driver.get(url)\n",
    "    \n",
    "    #for scrapping the number of stars\n",
    "    for j in driver.find_elements_by_xpath(\"//div[@class='col _2wzgFH K0kLPL']/div[1]/div[1]\"):\n",
    "        Stars.append(j.text)\n",
    "    #for scrapping the short review\n",
    "    for k in driver.find_elements_by_xpath(\"//div[@class='col _2wzgFH K0kLPL']/div[2]\"):\n",
    "        Review.append(k.text)\n",
    "    \n",
    "\n",
    "    \n",
    "time.sleep(3)       \n",
    "#Combining all the lists into a single dataframe\n",
    "lg_18_monitor=pd.DataFrame({'Number of Stars': Stars,\n",
    "               'Full Review': Review})\n",
    "lg_18_monitor\n",
    "# determining the name of the file\n",
    "file_name = 'lg_18_monitor.xlsx'\n",
    "  \n",
    "# saving the excel\n",
    "lg_18_monitor.to_excel(file_name)\n",
    "print('DataFrame is written to Excel File successfully.')"
   ]
  },
  {
   "cell_type": "markdown",
   "metadata": {},
   "source": [
    "## Home Thearter"
   ]
  },
  {
   "cell_type": "code",
   "execution_count": 44,
   "metadata": {},
   "outputs": [
    {
     "name": "stdout",
     "output_type": "stream",
     "text": [
      "DataFrame is written to Excel File successfully.\n"
     ]
    }
   ],
   "source": [
    "#Activating the chrome browser\n",
    "driver = webdriver.Chrome(r\"C:\\Users\\Jayasurya E\\Downloads\\chromedriver_win32 (1)\\chromedriver\")\n",
    "url = \"https://www.flipkart.com/intex-it-2616-bt-55-w-bluetooth-home-theatre/product-reviews/itm835ba2477ca67?pid=ACCFNMEYJNHSNCWN&lid=LSTACCFNMEYJNHSNCWNXWFCRW&marketplace=FLIPKART&page=2\"\n",
    "driver.get(url)\n",
    "# Creating empty list\n",
    "Review=[]\n",
    "Stars=[]\n",
    "\n",
    "time.sleep(4)\n",
    "\n",
    "for i in range(0,50):#for loop for scrapping 4 page\n",
    "    \n",
    "    url=driver.find_element_by_xpath(\"//nav[@class='yFHi8N']/a[12]\").get_attribute('href')\n",
    "    driver.get(url)\n",
    "    \n",
    "    #for scrapping the number of stars\n",
    "    for j in driver.find_elements_by_xpath(\"//div[@class='col _2wzgFH K0kLPL']/div[1]/div[1]\"):\n",
    "        Stars.append(j.text)\n",
    "    #for scrapping the short review\n",
    "    for k in driver.find_elements_by_xpath(\"//div[@class='col _2wzgFH K0kLPL']/div[2]\"):\n",
    "        Review.append(k.text)\n",
    "    \n",
    "\n",
    "    \n",
    "time.sleep(3)       \n",
    "#Combining all the lists into a single dataframe\n",
    "intex_homethearter=pd.DataFrame({'Number of Stars': Stars,\n",
    "               'Full Review': Review})\n",
    "intex_homethearter\n",
    "# determining the name of the file\n",
    "file_name = 'intex_homethearter.xlsx'\n",
    "  \n",
    "# saving the excel\n",
    "intex_homethearter.to_excel(file_name)\n",
    "print('DataFrame is written to Excel File successfully.')"
   ]
  },
  {
   "cell_type": "code",
   "execution_count": 45,
   "metadata": {},
   "outputs": [
    {
     "name": "stdout",
     "output_type": "stream",
     "text": [
      "DataFrame is written to Excel File successfully.\n"
     ]
    }
   ],
   "source": [
    "#Activating the chrome browser\n",
    "driver = webdriver.Chrome(r\"C:\\Users\\Jayasurya E\\Downloads\\chromedriver_win32 (1)\\chromedriver\")\n",
    "url = \"https://www.flipkart.com/zebronics-bt4440-rucf-60-watt-bluetooth-home-theatre/product-reviews/itm64f4909b3a65a?pid=ACCEA25DZGJUCYYH&lid=LSTACCEA25DZGJUCYYHGWTIFY&marketplace=FLIPKART&page=2\"\n",
    "driver.get(url)\n",
    "# Creating empty list\n",
    "Review=[]\n",
    "Stars=[]\n",
    "\n",
    "time.sleep(4)\n",
    "\n",
    "for i in range(0,50):#for loop for scrapping 4 page\n",
    "    \n",
    "    url=driver.find_element_by_xpath(\"//nav[@class='yFHi8N']/a[12]\").get_attribute('href')\n",
    "    driver.get(url)\n",
    "    \n",
    "    #for scrapping the number of stars\n",
    "    for j in driver.find_elements_by_xpath(\"//div[@class='col _2wzgFH K0kLPL']/div[1]/div[1]\"):\n",
    "        Stars.append(j.text)\n",
    "    #for scrapping the short review\n",
    "    for k in driver.find_elements_by_xpath(\"//div[@class='col _2wzgFH K0kLPL']/div[2]\"):\n",
    "        Review.append(k.text)\n",
    "    \n",
    "\n",
    "    \n",
    "time.sleep(3)       \n",
    "#Combining all the lists into a single dataframe\n",
    "zebronics_homethearter=pd.DataFrame({'Number of Stars': Stars,\n",
    "               'Full Review': Review})\n",
    "zebronics_homethearter\n",
    "# determining the name of the file\n",
    "file_name = 'zebronics_homethearter.xlsx'\n",
    "  \n",
    "# saving the excel\n",
    "zebronics_homethearter.to_excel(file_name)\n",
    "print('DataFrame is written to Excel File successfully.')"
   ]
  },
  {
   "cell_type": "code",
   "execution_count": 46,
   "metadata": {},
   "outputs": [
    {
     "name": "stdout",
     "output_type": "stream",
     "text": [
      "DataFrame is written to Excel File successfully.\n"
     ]
    }
   ],
   "source": [
    "#Activating the chrome browser\n",
    "driver = webdriver.Chrome(r\"C:\\Users\\Jayasurya E\\Downloads\\chromedriver_win32 (1)\\chromedriver\")\n",
    "url = \"https://www.flipkart.com/f-d-f6000x-135-w-bluetooth-home-theatre/product-reviews/itmf2535cb6c2051?pid=ACCFB4CWDZTWNSD8&lid=LSTACCFB4CWDZTWNSD8TNUNJI&marketplace=FLIPKART&page=2\"\n",
    "driver.get(url)\n",
    "# Creating empty list\n",
    "Review=[]\n",
    "Stars=[]\n",
    "\n",
    "time.sleep(4)\n",
    "\n",
    "for i in range(0,50):#for loop for scrapping 4 page\n",
    "    \n",
    "    url=driver.find_element_by_xpath(\"//nav[@class='yFHi8N']/a[12]\").get_attribute('href')\n",
    "    driver.get(url)\n",
    "    \n",
    "    #for scrapping the number of stars\n",
    "    for j in driver.find_elements_by_xpath(\"//div[@class='col _2wzgFH K0kLPL']/div[1]/div[1]\"):\n",
    "        Stars.append(j.text)\n",
    "    #for scrapping the short review\n",
    "    for k in driver.find_elements_by_xpath(\"//div[@class='col _2wzgFH K0kLPL']/div[2]\"):\n",
    "        Review.append(k.text)\n",
    "    \n",
    "\n",
    "    \n",
    "time.sleep(3)       \n",
    "#Combining all the lists into a single dataframe\n",
    "fd_homethearter=pd.DataFrame({'Number of Stars': Stars,\n",
    "               'Full Review': Review})\n",
    "fd_homethearter\n",
    "# determining the name of the file\n",
    "file_name = 'fd_homethearter.xlsx'\n",
    "  \n",
    "# saving the excel\n",
    "fd_homethearter.to_excel(file_name)\n",
    "print('DataFrame is written to Excel File successfully.')"
   ]
  },
  {
   "cell_type": "code",
   "execution_count": 47,
   "metadata": {},
   "outputs": [
    {
     "name": "stdout",
     "output_type": "stream",
     "text": [
      "DataFrame is written to Excel File successfully.\n"
     ]
    }
   ],
   "source": [
    "#Activating the chrome browser\n",
    "driver = webdriver.Chrome(r\"C:\\Users\\Jayasurya E\\Downloads\\chromedriver_win32 (1)\\chromedriver\")\n",
    "url = \"https://www.flipkart.com/philips-spa4040b-94-45-w-bluetooth-home-theatre/product-reviews/itm1f38880be00b0?pid=ACCEEYGPY99TKE8Q&lid=LSTACCEEYGPY99TKE8QRORDGM&marketplace=FLIPKART&page=2\"\n",
    "driver.get(url)\n",
    "# Creating empty list\n",
    "Review=[]\n",
    "Stars=[]\n",
    "\n",
    "time.sleep(4)\n",
    "\n",
    "for i in range(0,8):#for loop for scrapping 4 page\n",
    "    \n",
    "    url=driver.find_element_by_xpath(\"//nav[@class='yFHi8N']/a[12]\").get_attribute('href')\n",
    "    driver.get(url)\n",
    "    \n",
    "    #for scrapping the number of stars\n",
    "    for j in driver.find_elements_by_xpath(\"//div[@class='col _2wzgFH K0kLPL']/div[1]/div[1]\"):\n",
    "        Stars.append(j.text)\n",
    "    #for scrapping the short review\n",
    "    for k in driver.find_elements_by_xpath(\"//div[@class='col _2wzgFH K0kLPL']/div[2]\"):\n",
    "        Review.append(k.text)\n",
    "    \n",
    "\n",
    "    \n",
    "time.sleep(3)       \n",
    "#Combining all the lists into a single dataframe\n",
    "Philips_homethearter=pd.DataFrame({'Number of Stars': Stars,\n",
    "               'Full Review': Review})\n",
    "Philips_homethearter\n",
    "# determining the name of the file\n",
    "file_name = 'Philips_homethearter.xlsx'\n",
    "  \n",
    "# saving the excel\n",
    "Philips_homethearter.to_excel(file_name)\n",
    "print('DataFrame is written to Excel File successfully.')"
   ]
  },
  {
   "cell_type": "markdown",
   "metadata": {},
   "source": [
    "## Router"
   ]
  },
  {
   "cell_type": "code",
   "execution_count": 48,
   "metadata": {},
   "outputs": [
    {
     "name": "stdout",
     "output_type": "stream",
     "text": [
      "DataFrame is written to Excel File successfully.\n"
     ]
    }
   ],
   "source": [
    "#Activating the chrome browser\n",
    "driver = webdriver.Chrome(r\"C:\\Users\\Jayasurya E\\Downloads\\chromedriver_win32 (1)\\chromedriver\")\n",
    "url = \"https://www.flipkart.com/tp-link-tl-wa850re-in-300-mbps-wifi-range-extender/product-reviews/itmbb26f024f7e15?pid=RTRDP2GSBX4AF7FK&lid=LSTRTRDP2GSBX4AF7FKPNVLBV&marketplace=FLIPKART&page=2\"\n",
    "driver.get(url)\n",
    "# Creating empty list\n",
    "Review=[]\n",
    "Stars=[]\n",
    "\n",
    "time.sleep(4)\n",
    "\n",
    "for i in range(0,50):#for loop for scrapping 4 page\n",
    "    \n",
    "    url=driver.find_element_by_xpath(\"//nav[@class='yFHi8N']/a[12]\").get_attribute('href')\n",
    "    driver.get(url)\n",
    "    \n",
    "    #for scrapping the number of stars\n",
    "    for j in driver.find_elements_by_xpath(\"//div[@class='col _2wzgFH K0kLPL']/div[1]/div[1]\"):\n",
    "        Stars.append(j.text)\n",
    "    #for scrapping the short review\n",
    "    for k in driver.find_elements_by_xpath(\"//div[@class='col _2wzgFH K0kLPL']/div[2]\"):\n",
    "        Review.append(k.text)\n",
    "    \n",
    "\n",
    "    \n",
    "time.sleep(3)       \n",
    "#Combining all the lists into a single dataframe\n",
    "tplink_router=pd.DataFrame({'Number of Stars': Stars,\n",
    "               'Full Review': Review})\n",
    "tplink_router\n",
    "# determining the name of the file\n",
    "file_name = 'tplink_router.xlsx'\n",
    "  \n",
    "# saving the excel\n",
    "tplink_router.to_excel(file_name)\n",
    "print('DataFrame is written to Excel File successfully.')"
   ]
  },
  {
   "cell_type": "code",
   "execution_count": 49,
   "metadata": {},
   "outputs": [
    {
     "name": "stdout",
     "output_type": "stream",
     "text": [
      "DataFrame is written to Excel File successfully.\n"
     ]
    }
   ],
   "source": [
    "#Activating the chrome browser\n",
    "driver = webdriver.Chrome(r\"C:\\Users\\Jayasurya E\\Downloads\\chromedriver_win32 (1)\\chromedriver\")\n",
    "url = \"https://www.flipkart.com/d-link-dir-819-750-mbps-router/product-reviews/itmff2hynmhzhtqa?pid=RTRFF2HYYUYHCGGK&lid=LSTRTRFF2HYYUYHCGGKB3BKOG&marketplace=FLIPKART&page=2\"\n",
    "driver.get(url)\n",
    "# Creating empty list\n",
    "Review=[]\n",
    "Stars=[]\n",
    "\n",
    "time.sleep(4)\n",
    "\n",
    "for i in range(0,50):#for loop for scrapping 4 page\n",
    "    \n",
    "    url=driver.find_element_by_xpath(\"//nav[@class='yFHi8N']/a[12]\").get_attribute('href')\n",
    "    driver.get(url)\n",
    "    \n",
    "    #for scrapping the number of stars\n",
    "    for j in driver.find_elements_by_xpath(\"//div[@class='col _2wzgFH K0kLPL']/div[1]/div[1]\"):\n",
    "        Stars.append(j.text)\n",
    "    #for scrapping the short review\n",
    "    for k in driver.find_elements_by_xpath(\"//div[@class='col _2wzgFH K0kLPL']/div[2]\"):\n",
    "        Review.append(k.text)\n",
    "    \n",
    "\n",
    "    \n",
    "time.sleep(3)       \n",
    "#Combining all the lists into a single dataframe\n",
    "Dlink_router=pd.DataFrame({'Number of Stars': Stars,\n",
    "               'Full Review': Review})\n",
    "Dlink_router\n",
    "# determining the name of the file\n",
    "file_name = 'Dlink_router.xlsx'\n",
    "  \n",
    "# saving the excel\n",
    "Dlink_router.to_excel(file_name)\n",
    "print('DataFrame is written to Excel File successfully.')"
   ]
  },
  {
   "cell_type": "code",
   "execution_count": 50,
   "metadata": {},
   "outputs": [
    {
     "name": "stdout",
     "output_type": "stream",
     "text": [
      "DataFrame is written to Excel File successfully.\n"
     ]
    }
   ],
   "source": [
    "#Activating the chrome browser\n",
    "driver = webdriver.Chrome(r\"C:\\Users\\Jayasurya E\\Downloads\\chromedriver_win32 (1)\\chromedriver\")\n",
    "url = \"https://www.flipkart.com/tenda-n301-300-mbps-router/product-reviews/itmehkf7am7tpawg?pid=RTRDYEYZKF884XRZ&lid=LSTRTRDYEYZKF884XRZA1WPYP&marketplace=FLIPKART&page=2\"\n",
    "driver.get(url)\n",
    "# Creating empty list\n",
    "Review=[]\n",
    "Stars=[]\n",
    "\n",
    "time.sleep(4)\n",
    "\n",
    "for i in range(0,50):#for loop for scrapping 4 page\n",
    "    \n",
    "    url=driver.find_element_by_xpath(\"//nav[@class='yFHi8N']/a[12]\").get_attribute('href')\n",
    "    driver.get(url)\n",
    "    \n",
    "    #for scrapping the number of stars\n",
    "    for j in driver.find_elements_by_xpath(\"//div[@class='col _2wzgFH K0kLPL']/div[1]/div[1]\"):\n",
    "        Stars.append(j.text)\n",
    "    #for scrapping the short review\n",
    "    for k in driver.find_elements_by_xpath(\"//div[@class='col _2wzgFH K0kLPL']/div[2]\"):\n",
    "        Review.append(k.text)\n",
    "    \n",
    "\n",
    "    \n",
    "time.sleep(3)       \n",
    "#Combining all the lists into a single dataframe\n",
    "Tenda_router=pd.DataFrame({'Number of Stars': Stars,\n",
    "               'Full Review': Review})\n",
    "Tenda_router\n",
    "# determining the name of the file\n",
    "file_name = 'Tenda_router.xlsx'\n",
    "  \n",
    "# saving the excel\n",
    "Tenda_router.to_excel(file_name)\n",
    "print('DataFrame is written to Excel File successfully.')"
   ]
  },
  {
   "cell_type": "code",
   "execution_count": 51,
   "metadata": {},
   "outputs": [
    {
     "name": "stdout",
     "output_type": "stream",
     "text": [
      "DataFrame is written to Excel File successfully.\n"
     ]
    }
   ],
   "source": [
    "#Activating the chrome browser\n",
    "driver = webdriver.Chrome(r\"C:\\Users\\Jayasurya E\\Downloads\\chromedriver_win32 (1)\\chromedriver\")\n",
    "url = \"https://www.flipkart.com/tp-link-td-w8961n-300mbps-adsl2-wireless-modemrouter/product-reviews/itme9tbdewypmngy?pid=RTRDET9AGHDZE6HM&lid=LSTRTRDET9AGHDZE6HMLCXFTR&marketplace=FLIPKART&page=2\"\n",
    "driver.get(url)\n",
    "# Creating empty list\n",
    "Review=[]\n",
    "Stars=[]\n",
    "\n",
    "time.sleep(4)\n",
    "\n",
    "for i in range(0,65):#for loop for scrapping 4 page\n",
    "    \n",
    "    url=driver.find_element_by_xpath(\"//nav[@class='yFHi8N']/a[12]\").get_attribute('href')\n",
    "    driver.get(url)\n",
    "    \n",
    "    #for scrapping the number of stars\n",
    "    for j in driver.find_elements_by_xpath(\"//div[@class='col _2wzgFH K0kLPL']/div[1]/div[1]\"):\n",
    "        Stars.append(j.text)\n",
    "    #for scrapping the short review\n",
    "    for k in driver.find_elements_by_xpath(\"//div[@class='col _2wzgFH K0kLPL']/div[2]\"):\n",
    "        Review.append(k.text)\n",
    "    \n",
    "\n",
    "    \n",
    "time.sleep(3)       \n",
    "#Combining all the lists into a single dataframe\n",
    "Tplinkw896_router=pd.DataFrame({'Number of Stars': Stars,\n",
    "               'Full Review': Review})\n",
    "Tplinkw896_router\n",
    "# determining the name of the file\n",
    "file_name = 'Tplinkw896_router.xlsx'\n",
    "  \n",
    "# saving the excel\n",
    "Tplinkw896_router.to_excel(file_name)\n",
    "print('DataFrame is written to Excel File successfully.')"
   ]
  }
 ],
 "metadata": {
  "kernelspec": {
   "display_name": "Python 3",
   "language": "python",
   "name": "python3"
  },
  "language_info": {
   "codemirror_mode": {
    "name": "ipython",
    "version": 3
   },
   "file_extension": ".py",
   "mimetype": "text/x-python",
   "name": "python",
   "nbconvert_exporter": "python",
   "pygments_lexer": "ipython3",
   "version": "3.8.5"
  }
 },
 "nbformat": 4,
 "nbformat_minor": 4
}
